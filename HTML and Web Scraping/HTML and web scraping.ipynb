{
 "cells": [
  {
   "cell_type": "markdown",
   "metadata": {},
   "source": [
    "# HTML and web scraping"
   ]
  },
  {
   "cell_type": "markdown",
   "metadata": {},
   "source": [
    "Reference: \n",
    "- Advanced Business Analytics course by Stanislav Borysov, DTU Management.\n",
    "- https://www.w3schools.com/html/default.asp\n",
    "- https://towardsdatascience.com/5-strategies-to-write-unblock-able-web-scrapers-in-python-5e40c147bdaf"
   ]
  },
  {
   "cell_type": "markdown",
   "metadata": {},
   "source": [
    "Web crawling and scraping represent a very flexible way to get the content from the Internet. Essentially, it imitates a user who visits different webpages and views their content. The only difference is that Internet companies usually love real users and hate scraping bots. So be prepared to be blocked. **In the worst case, you can get into serious troubles so please always read Terms & Conditions and follow the company's policy about automatic data collection (or ask them directly if you are not sure)!**\n",
    "\n",
    "Additionally, you can always read the **Robot.txt** file to know what you are allowed or not to do. In a nutshel **Robots.txt** is a text file webmasters create to instruct web robots (typically search engine robots) how to crawl pages on their website. In practice, robots.txt files indicate whether certain user agents (web-crawling software) can or cannot crawl parts of a website. These crawl instructions are specified by “disallowing” or “allowing” the behavior of certain (or all) user agents. The basic format is:\n",
    "\n",
    "User-agent: [user-agent name] \n",
    "\n",
    "Disallow: [URL string not to be crawled]\n",
    "\n",
    "\n",
    "It follows an example with comments of the Robot.txt file of Buzzfeed (reference: https://moz.com/learn/seo/robotstxt )\n",
    "\n",
    "![Robot.txt](https://moz-static.s3.amazonaws.com/learn/seo/Robots.txt-and-Robots-meta-directives/_large/Robots.txt.png?mtime=20170427090304)"
   ]
  },
  {
   "cell_type": "markdown",
   "metadata": {},
   "source": [
    "## 1. HTML\n",
    "\n",
    "Hypertext Markup Language (HTML) is the standard markup language for documents designed to be displayed in a web browser."
   ]
  },
  {
   "cell_type": "markdown",
   "metadata": {},
   "source": [
    "#### 1.1 Basic structure\n",
    "\n",
    "- All HTML documents must start with a document type declaration: $<!DOCTYPE html>$.\n",
    "- The HTML document itself begins with $<html>$ and ends with $</html>$.\n",
    "- The visible part of the HTML document is between $<body>$ and $</body>$.\n",
    "\n",
    "Let's see an example ( _%%HTML_ is only needed to run HTML code in Jupyter) "
   ]
  },
  {
   "cell_type": "code",
   "execution_count": 1,
   "metadata": {},
   "outputs": [
    {
     "data": {
      "text/html": [
       "\n",
       "<!DOCTYPE html>\n",
       "<html>\n",
       "<body>\n",
       "\n",
       "<h3>My First Heading</h3>\n",
       "<p>My first paragraph.</p>\n",
       "\n",
       "</body>\n",
       "</html>\n"
      ],
      "text/plain": [
       "<IPython.core.display.HTML object>"
      ]
     },
     "metadata": {},
     "output_type": "display_data"
    }
   ],
   "source": [
    "%%HTML  \n",
    "\n",
    "<!DOCTYPE html>\n",
    "<html>\n",
    "<body>\n",
    "\n",
    "<h3>My First Heading</h3>\n",
    "<p>My first paragraph.</p>\n",
    "\n",
    "</body>\n",
    "</html>"
   ]
  },
  {
   "cell_type": "markdown",
   "metadata": {},
   "source": [
    "#### 1.2 Elements Tags\n",
    "\n",
    "An HTML element usually consists of a start tag and an end tag, with the content inserted in between. The HTML element is everything from the start tag to the end tag. \n",
    "\n",
    "HTML tags are the hidden keywords within a web page that define how your web browser must format and display the content. Most tags must have two parts, an opening and a closing part. For example, <html> is the opening tag and </html> is the closing tag. Note that the closing tag has the same text as the opening tag, but has an additional forward-slash ( / ) character. Ii can be interpreteted as the \"end\" or \"close\" character.\n",
    "\n",
    "Common tags are:\n",
    "- __Headings__  defined with $<h >$ and a number from 1 to 6. $<h1>$ defines the most important heading, $<h6>$ defines the least important.\n",
    "- __Paragraphs__  defined with the $<p>$ tag.\n",
    "- __Links__  defined with the $<a>$ tag. Where the link's destination is specified in the $href$ attribute.\n",
    "- __Images__  defined with the $<img>$ tag. Where the source file $(src)$, alternative text $(alt)$, $width$, and $height$ are provided as attributes.\n",
    "- __Buttons__  defined with the $<button>$ tag.\n",
    "- __Lists__  defined with the $<ul>$ (unordered/bullet list) or the $<ol>$ (ordered/numbered list) tag, followed by $<li>$ tags (list items).\n",
    "\n",
    "List of Elements Tag: https://www.w3schools.com/tags/ref_byfunc.asp"
   ]
  },
  {
   "cell_type": "markdown",
   "metadata": {},
   "source": [
    "#### 1.2 Elements container\n",
    "\n",
    "As a \"pure\" container, the $<div>$ or $<span>$ element does not inherently represent anything. Instead, it's used to group content so it can be easily styled using the class or id attributes, marking a section of a document as being written in a different language (using the lang attribute), and so on.\n",
    "\n",
    "Main container elements:\n",
    "- The __$<div>$ element__ is often used as a container for other HTML elements.\n",
    "- The __$<span>$ element__ is often used as a container for some text.\n",
    "\n",
    "Keep in mind that HTML elements can be nested (elements can contain elements). For example, the <body> element of an HTML document can contain paragraph and headings. (See the first example)"
   ]
  },
  {
   "cell_type": "markdown",
   "metadata": {},
   "source": [
    "#### 1.3 Elements Attributes\n",
    "\n",
    "Attributes provide additional information about an element. Attributes are always specified in the start tag. For example,\n",
    "- $href$ specifies the link address.\n",
    "- $src$ specifies filename of the image source.\n",
    "- $width$ and $height$ specifies the width and height of the image.\n",
    "- $alt$ attribute specifies an alternative text to be used, if an image cannot be displayed.\n",
    "- $style$ is used to specify the styling of an element, like color, font, size etc.\n",
    "- The language is declared with the $lang$ attribute.\n",
    "- $title$ attribute is added to the $<p>$ element. The value of the title attribute will be displayed as a tooltip when you mouse over the paragraph.\n",
    "- $class$ attribute is used to define equal styles for elements with the same class name.\n",
    "- $id$ attribute specifies a unique id for an HTML element (the value must be unique within the HTML document).\n",
    "\n",
    "Complete list of attributes: https://www.w3schools.com/tags/ref_attributes.asp\n",
    "\n",
    "To get a better idea look at the example below."
   ]
  },
  {
   "cell_type": "code",
   "execution_count": 2,
   "metadata": {},
   "outputs": [
    {
     "data": {
      "text/html": [
       "\n",
       "<!DOCTYPE html>\n",
       "<html lang=\"en-US\">\n",
       "<div style=\"background-image: url('img_girl.jpg');\">\n",
       "<body>\n",
       "\n",
       "<a href=\"https://www.w3schools.com\">This is a link</a>\n",
       "\n",
       "<img src=\"img_girl.jpg\" width=\"50\" height=\"60\" alt=\"Girl with a jacket\">\n",
       "\n",
       "<p style=\"color:red; font-family:courier;font-size:160%;\">This is the first paragraph.</p>\n",
       "\n",
       "<p title=\"It really happens\">\n",
       "This is the second paragraph.\n",
       "</p>\n",
       "\n",
       "</body>\n",
       "</html>\n"
      ],
      "text/plain": [
       "<IPython.core.display.HTML object>"
      ]
     },
     "metadata": {},
     "output_type": "display_data"
    }
   ],
   "source": [
    "%%HTML\n",
    "\n",
    "<!DOCTYPE html>\n",
    "<html lang=\"en-US\">\n",
    "<div style=\"background-image: url('img_girl.jpg');\">\n",
    "<body>\n",
    "\n",
    "<a href=\"https://www.w3schools.com\">This is a link</a>\n",
    "\n",
    "<img src=\"img_girl.jpg\" width=\"50\" height=\"60\" alt=\"Girl with a jacket\">\n",
    "\n",
    "<p style=\"color:red; font-family:courier;font-size:160%;\">This is the first paragraph.</p>\n",
    "\n",
    "<p title=\"It really happens\">\n",
    "This is the second paragraph.\n",
    "</p>\n",
    "\n",
    "</body>\n",
    "</html>"
   ]
  },
  {
   "cell_type": "markdown",
   "metadata": {},
   "source": [
    "Class example:"
   ]
  },
  {
   "cell_type": "code",
   "execution_count": 3,
   "metadata": {},
   "outputs": [
    {
     "data": {
      "text/html": [
       "\n",
       "<style>\n",
       ".cities {\n",
       "  background-color: black;\n",
       "  color: white;\n",
       "  margin: 20px;\n",
       "  padding: 20px;\n",
       "}\n",
       "</style>\n",
       "</head>\n",
       "<body>\n",
       "\n",
       "<div class=\"cities\">\n",
       "  <h2>London</h2>\n",
       "  <p>London is the capital of England.</p>\n",
       "</div>\n"
      ],
      "text/plain": [
       "<IPython.core.display.HTML object>"
      ]
     },
     "metadata": {},
     "output_type": "display_data"
    }
   ],
   "source": [
    "%%HTML\n",
    "\n",
    "<style>\n",
    ".cities {\n",
    "  background-color: black;\n",
    "  color: white;\n",
    "  margin: 20px;\n",
    "  padding: 20px;\n",
    "}\n",
    "</style>\n",
    "</head>\n",
    "<body>\n",
    "\n",
    "<div class=\"cities\">\n",
    "  <h2>London</h2>\n",
    "  <p>London is the capital of England.</p>\n",
    "</div>"
   ]
  },
  {
   "cell_type": "markdown",
   "metadata": {},
   "source": [
    "#### 1.4 Tables\n",
    "\n",
    "An HTML table is defined with the $<table>$ tag.\n",
    "\n",
    "Each table row is defined with the $<tr>$ tag. A table header is defined with the $<th>$ tag. By default, table headings are bold and centered. A table data/cell is defined with the $<td>$ tag."
   ]
  },
  {
   "cell_type": "code",
   "execution_count": 4,
   "metadata": {},
   "outputs": [
    {
     "data": {
      "text/html": [
       "\n",
       "<table style=\"width:100%\">\n",
       "  <tr>\n",
       "    <th>Firstname</th>\n",
       "    <th>Lastname</th>\n",
       "    <th>Age</th>\n",
       "  </tr>\n",
       "  <tr>\n",
       "    <td>Jill</td>\n",
       "    <td>Smith</td>\n",
       "    <td>50</td>\n",
       "  </tr>\n",
       "  <tr>\n",
       "    <td>Eve</td>\n",
       "    <td>Jackson</td>\n",
       "    <td>94</td>\n",
       "  </tr>\n",
       "</table>\n"
      ],
      "text/plain": [
       "<IPython.core.display.HTML object>"
      ]
     },
     "metadata": {},
     "output_type": "display_data"
    }
   ],
   "source": [
    "%%HTML\n",
    "\n",
    "<table style=\"width:100%\">\n",
    "  <tr>\n",
    "    <th>Firstname</th>\n",
    "    <th>Lastname</th>\n",
    "    <th>Age</th>\n",
    "  </tr>\n",
    "  <tr>\n",
    "    <td>Jill</td>\n",
    "    <td>Smith</td>\n",
    "    <td>50</td>\n",
    "  </tr>\n",
    "  <tr>\n",
    "    <td>Eve</td>\n",
    "    <td>Jackson</td>\n",
    "    <td>94</td>\n",
    "  </tr>\n",
    "</table>"
   ]
  },
  {
   "cell_type": "markdown",
   "metadata": {},
   "source": [
    "## 2. Web Scraping \n",
    "Web scraping, web harvesting, or web data extraction is data scraping used for extracting data from websites."
   ]
  },
  {
   "cell_type": "markdown",
   "metadata": {},
   "source": [
    "### 2.1 DTU News\n",
    "\n",
    "In this exercise, we will implement a web scraper that get news headlines together with the date and short description from https://www.dtu.dk/english/news. We are gonna use Scrapy (https://scrapy.org/) however, keep in mind that exist many other framework available. "
   ]
  },
  {
   "cell_type": "markdown",
   "metadata": {},
   "source": [
    "#### 2.1.1 Navigating the website"
   ]
  },
  {
   "cell_type": "markdown",
   "metadata": {},
   "source": [
    "In this case, the webpage shows 10 recent news items by default; however, it is possible to get the 100 most recent news modifying the URL structure properly. \n",
    "\n",
    "It is very important to get familiar with the website where we are working. We need to know what can and cannot be obtained and we need to understand the URL structure.\n",
    "\n",
    "In the example below we want the 200 most recent. Since only the maximum of news that can be displayed is 100, we construct 2 urls: the first the get the 100 most recent news and the second to get from the 101st to the 200th most recent news. "
   ]
  },
  {
   "cell_type": "code",
   "execution_count": 5,
   "metadata": {},
   "outputs": [
    {
     "name": "stdout",
     "output_type": "stream",
     "text": [
      "['https://www.dtu.dk/english/news?fr=1&mr=100', 'https://www.dtu.dk/english/news?fr=101&mr=100']\n"
     ]
    }
   ],
   "source": [
    "url_base = \"https://www.dtu.dk/english/news\"\n",
    "\n",
    "import math\n",
    "\n",
    "urls = []\n",
    "n_items = 200\n",
    "start = 1\n",
    "items_to_show = 100 # The webpage cannot show more then 100 items at once\n",
    "for i in range(math.ceil(n_items / items_to_show)):\n",
    "    parameters = [\n",
    "        \"fr={}\".format(start), \n",
    "        \"mr={}\".format(items_to_show)\n",
    "    ]\n",
    "    url = url_base + \"?\" + \"&\".join(parameters)\n",
    "    urls.append(url)\n",
    "    start += items_to_show\n",
    "\n",
    "print(urls)"
   ]
  },
  {
   "cell_type": "markdown",
   "metadata": {},
   "source": [
    "### 2.1.2 Scraping the webpage content\n",
    "\n",
    "Let's retrieve the information we are interested in and save it in a file."
   ]
  },
  {
   "cell_type": "code",
   "execution_count": 6,
   "metadata": {},
   "outputs": [],
   "source": [
    "import urllib.request\n",
    "\n",
    "for url in urls:\n",
    "    contents = urllib.request.urlopen(url).read()\n",
    "    with open(\"dtu_news.html\", \"wb\") as f:\n",
    "        f.write(contents)"
   ]
  },
  {
   "cell_type": "markdown",
   "metadata": {},
   "source": [
    "Note, that all markup and images are missing since we saved only the HTML content."
   ]
  },
  {
   "cell_type": "markdown",
   "metadata": {},
   "source": [
    "### 2.1.3. Extracting the data\n",
    "\n",
    "Let's load the data from the file. Once the web content is loaded, we want to extract information wanted. To do that it can be used regular expressions or HTML parser (e.g., PyQuery, BeautifulSoup) that allows to save the content to a JSON file.\n",
    "\n",
    "To extract any kind of information from a HTML document is very important to understand the structure of the webpage. This can be done directly from your browser. Try:\n",
    "- Chrome: right click -> inspect\n",
    "- Safari, Firefox, Edge: right click -> inspect element\n",
    "\n",
    "Once we have clear the webpage structure, we create a PyQuery object that store all the element we are interested in. To do that we find the information we need inspecting the webpage in our browser and we specify an attribute that identify each single element. Note that often the information are stored in containers and has a particular class. Then, we can iterate through the list of elements and retrieve the needed information specify the attribute name or $.text()$ if the information is stored as text. If the the information is stored in a sub-element, we can use the function $find$. To access sub element we can also use the \">\" symbol (this depends on the web-scraper framework (PyQuery) and can be different for other framework). "
   ]
  },
  {
   "cell_type": "code",
   "execution_count": 7,
   "metadata": {},
   "outputs": [
    {
     "name": "stdout",
     "output_type": "stream",
     "text": [
      "{'url': 'https://www.dtu.dk/english/news/nyhed?id={C6CC5F44-EA8A-4320-92C1-DA4BCF853918}', 'title': 'Rocky reef to help sea trout in Lillebælt Nature Park', 'desc': 'A new research project will investigate whether rocky reefs near a river mouth can support sea trout during their dangerous migration from freshwater to the sea.', 'date': '10 DEC'}\n",
      "{'url': 'https://www.dtu.dk/english/news/nyhed?id={95C64422-EE07-40A7-BC5E-4053FE962A7D}', 'title': 'Eye model may improve corneal transplantation', 'desc': 'Young researcher has developed an eye model that Rigshospitalet will use to optimize transplantation and other corneal treatments.', 'date': '08 DEC'}\n",
      "{'url': 'https://www.dtu.dk/english/news/nyhed?id={28D148F2-58AF-47FF-B49B-FDE091FF8C34}', 'title': 'The Digital Tech Summit got off to a good start', 'desc': \"Denmark's new major tech and research event has created a venue for the research and companies that drive the digital development in Denmark and the Nordic countries.\", 'date': '03 DEC'}\n",
      "{'url': 'https://www.dtu.dk/english/news/nyhed?id={8CE11067-F79A-4F3E-9013-67346C1C3281}', 'title': \"DTU at the top of the ranking of Denmark's IT workplaces\", 'desc': 'The annual IT Company Rank, published by Ingeniørens Mediehus, has named DTU number two in Denmark - surpassed only by Microsoft.', 'date': '01 DEC'}\n",
      "{'url': 'https://www.dtu.dk/english/news/nyhed?id={0FDD73C3-3317-4C96-9CC6-5CAF5F83F1D0}', 'title': 'To make the green transition, take advantage of digitalisation', 'desc': 'Op-ed by Anders Bjarklev: Take advantage of digitalisation and offer students a high-level engineering education throughout the country.', 'date': '30 NOV'}\n",
      "{'url': 'https://www.dtu.dk/english/news/nyhed?id={B7C56DDD-9678-414A-B441-42F925FA66D8}', 'title': 'Algorithm for mine blasting wins innovation award', 'desc': \"An algorithm that can analyze large amounts of geological image data and streamline mine blasting won first prize in DTU's accelerator program for start-ups.\", 'date': '30 NOV'}\n",
      "{'url': 'https://www.dtu.dk/english/news/nyhed?id={92C465E4-A1C9-499C-88FF-5C0CC6047B0C}', 'title': 'DTU: Digital University will provide more engineers', 'desc': 'A digital university, a new teacher’s education in STEM subjects and a strong regional presence to offer more engineers for sustainable development and strengthen...', 'date': '29 NOV'}\n",
      "{'url': 'https://www.dtu.dk/english/news/nyhed?id={6220075B-9558-47AE-A2AD-9A7CD58CE35A}', 'title': \"Explainable AI to increase hospitals' use of AI\", 'desc': 'In a new DIREC project, AI researchers are collaborating with hospitals to create more useful AI and AI algorithms that are easier to understand.', 'date': '29 NOV'}\n",
      "{'url': 'https://www.dtu.dk/english/news/nyhed?id={695CB990-CE27-4FE4-B493-A0BBC23F69C9}', 'title': 'DTU strengthens collaboration with Mexican university', 'desc': 'New agreements reinforce international research collaboration and student exchange between DTU and Tec De Monterrey.', 'date': '25 NOV'}\n",
      "{'url': 'https://www.dtu.dk/english/news/nyhed?id={15F143B0-1D6A-4C2A-BE6C-BF1D46FFB8C0}', 'title': 'The energy islands are our common Mars mission', 'desc': 'Denmark’s energy islands are hugely ambitious projects. It will require development and research—so let’s start now.', 'date': '25 NOV'}\n",
      "{'url': 'https://www.dtu.dk/english/news/nyhed?id={5F1878D1-8F49-400C-B947-ADE309DA65ED}', 'title': 'Electrification will reduce greenhouse gas emissions', 'desc': 'The global wind and energy sector is currently gathered in Copenhagen for the WindEurope Electric City 2021 event, and as an important player in this field of research...', 'date': '24 NOV'}\n",
      "{'url': 'https://www.dtu.dk/english/news/nyhed?id={3ED6A1C5-3C96-409E-BCB2-355EA5CA1D5C}', 'title': '20th anniversary for explosions and wild colours', 'desc': 'Over the past 20 years, DTU ScienceShow has provided entertainment with fascinating experiments and brought science to thousands of people.', 'date': '24 NOV'}\n",
      "{'url': 'https://www.dtu.dk/english/news/nyhed?id={8682AE4A-F1FB-4FD6-ADAD-9E5B8DCEA87F}', 'title': 'Thesis collaborations benefit students and companies', 'desc': '42 per cent of DTU’s MSc students write their theses in collaboration with companies. This is an opportunity to test the theory they have learned in real-world situations...', 'date': '22 NOV'}\n",
      "{'url': 'https://www.dtu.dk/english/news/nyhed?id={268B8510-658F-4DBB-B449-83506069D15C}', 'title': 'Pathway for ‘green ammonia’ opens in new study', 'desc': 'An experimental and computational study in Nature Catalysis shows promise for new class of catalysts producing ammonia under mild conditions.', 'date': '20 NOV'}\n",
      "{'url': 'https://www.dtu.dk/english/news/nyhed?id={F8FA7E9D-0475-4C49-A1DC-308CBFE657F6}', 'title': 'Is it sensible to use rainwater to flush the toilet?', 'desc': 'As a world first, a new residential district in Aarhus is using secondary water from the local water utility for toilets and washing machines. The solution is supported...', 'date': '16 NOV'}\n",
      "{'url': '', 'title': 'DTU President: Health should be associated with engineers too', 'desc': 'Health technology is an important research field within DTU. Because engineers, and the technology they can help to develop, are necessary for promoting health locally...', 'date': '12 NOV'}\n",
      "{'url': 'https://www.dtu.dk/english/news/nyhed?id={2309A8D7-544C-48FB-B5D4-F19CDAF41E14}', 'title': 'Students and people with disabilities develop universal solutions', 'desc': 'At DTU disabilities are used as a source of innovation. It will provide young people with disabilities with tools to become entrepreneurs.', 'date': '09 NOV'}\n",
      "{'url': 'https://www.dtu.dk/english/news/nyhed?id={C53891B3-DF71-4FD9-AB74-3D9C3BC2423B}', 'title': 'Data centers should be integrated into a green energy system', 'desc': \"Energy project: Rethink the way the data center's climate footprint is calculated, match the power consumption with green electricity and reuse the waste heat.\", 'date': '08 NOV'}\n",
      "{'url': 'https://www.dtu.dk/english/news/nyhed?id={18260DBB-FC94-4D84-8451-E0E4082394C6}', 'title': 'DTU contributes to making Europe climate neutral', 'desc': 'DTU’s research and development of sustainable technologies will be an important factor in the green transition of Europe.', 'date': '08 NOV'}\n",
      "{'url': 'https://www.dtu.dk/english/news/nyhed?id={24D50F24-48FF-4355-B64A-D4751FDA0DDA}', 'title': 'Electrolysis plant to accelerate hydrogen production', 'desc': 'Large-scale Danish hydrogen project gets the green light from the EU. The aim is to create energy solutions that can accelerate the green transition.', 'date': '08 NOV'}\n",
      "{'url': 'https://www.dtu.dk/english/news/nyhed?id={83DC68FE-FA39-412C-A77B-F2B75717D6E9}', 'title': 'Digital Tech Summit', 'desc': \"DTU is part of Denmark's new major tech and research event.\", 'date': '05 NOV'}\n",
      "{'url': 'https://www.dtu.dk/english/news/nyhed?id={FCF570EF-DB7C-440A-AA12-196D794307EF}', 'title': 'Life cycle assessment of carbon capture', 'desc': 'Life cycle assessment of carbon capture at incineration plants shows that despite some drawbacks, the net result is a clear advantage for the climate.', 'date': '04 NOV'}\n",
      "{'url': 'https://www.dtu.dk/english/news/nyhed?id={FD7F8450-F062-47E1-A6D7-2142E005DC8A}', 'title': 'DTU’s basic research centre for nanophotonics inaugurated', 'desc': 'The Danish National Research Foundation boosts research into light and semiconductor nanostructures, which will lead to efficient computer and quantum technology.', 'date': '04 NOV'}\n",
      "{'url': 'https://www.dtu.dk/english/news/nyhed?id={9493FD09-DA29-4255-A785-5A91BF577E6C}', 'title': 'Entrepreneurship students are creating several start-ups', 'desc': 'The MSc in Technological Entrepreneurship focuses on academic diversity and inclusion. This has led to 14 new start-ups in a year.', 'date': '03 NOV'}\n",
      "{'url': 'https://www.dtu.dk/english/news/nyhed?id={69205168-1E99-493B-BA5A-6B402BDC0D53}', 'title': 'Generating knowledge on chemical mixtures’ harmful effects', 'desc': 'EU project will generate knowledge to help pinpoint substances in chemical mixtures that are harmful to human health—without animal testing.', 'date': '02 NOV'}\n",
      "{'url': 'https://www.dtu.dk/english/news/nyhed?id={38ACB804-073C-4402-8C35-29D4D0699EB2}', 'title': 'DTU increases focus on diversity and inclusion', 'desc': 'A new plan is set to boost DTU’s work on diversity and inclusiveness.', 'date': '02 NOV'}\n",
      "{'url': 'https://www.dtu.dk/english/news/nyhed?id={8506A9F4-01A6-4150-9526-ECBA84AE1A57}', 'title': 'DTU building is to be an active part of life in Lyngby', 'desc': 'DTU’s largest auditorium building is changed and expands its activities. An open environment is the setting for teaching as well as events.', 'date': '01 NOV'}\n",
      "{'url': 'https://www.dtu.dk/english/news/nyhed?id={62513702-958B-4716-968A-5BFC7E87C504}', 'title': 'DTU Startup Day premiere drew full houses', 'desc': 'More than 300 participants and 60 start-up projects participated in DTU Startup Day, which gathered activities from DTU’s entire ecosystem for innovation.', 'date': '01 NOV'}\n",
      "{'url': 'https://www.dtu.dk/english/news/nyhed?id={CB7209AF-B2E0-435F-957B-BA3A1C283C46}', 'title': 'Digital foundation of future energy needed', 'desc': 'Contribution i Altinget: Research holds the key to the future of green energy systems, but the national focus needs to be on the digital operating system that will connect...', 'date': '01 NOV'}\n",
      "{'url': 'https://www.dtu.dk/english/news/nyhed?id={39A81530-8F26-4991-AEB9-21FEB10CBAE0}', 'title': 'The HOPE project is honored for important Corona research', 'desc': \"The HOPE team from AU, KU and DTU receives the Columbus Prize 2021 for clear communication about the Danes' behavior during the COVID-19 crisis.\", 'date': '29 OCT'}\n",
      "{'url': 'https://www.dtu.dk/english/news/nyhed?id={72289809-273F-4F20-BE63-6BFB78A420A6}', 'title': 'Smart solutions can help save billions on energy islands', 'desc': \"Contribution in the media 'Altinget': With new innovative solutions, we can save at least DKK 20 billion once Denmark’s two energy islands are fully operational...\", 'date': '28 OCT'}\n",
      "{'url': 'https://www.dtu.dk/english/news/nyhed?id={3BF484CA-3A64-47BB-94B0-E394C67D0188}', 'title': 'Before COP26: Five technologies to get us on track', 'desc': \"This year's Emission Gap Report states that CO2 emissions are heading in the wrong direction. Read about five possible solutions.\", 'date': '27 OCT'}\n",
      "{'url': 'https://www.dtu.dk/english/news/nyhed?id={783C65FD-3CC1-448F-AFBF-37A06860B2B0}', 'title': 'Robot trained to remove weeds from organic fields', 'desc': 'A large image database forms the basis for the training of a small robot which—in future—will remove unwanted weeds from organic pastures.', 'date': '27 OCT'}\n",
      "{'url': 'https://www.dtu.dk/english/news/nyhed?id={ABBF6BBD-9E60-4AA4-8AB5-28DB5B12D8FA}', 'title': 'Far more screen time, sweets and cake during first lockdown', 'desc': 'The corona lockdown in the spring of 2020 led Danes to adopt more unhealthy habits in the form of more screen time and higher intake of sweets.', 'date': '26 OCT'}\n",
      "{'url': 'https://www.dtu.dk/english/news/nyhed?id={D1CB5544-C4D2-4405-BA92-0C4D2D9AF79C}', 'title': 'Denmark’s large space project is extended', 'desc': 'Good research results mean that the Danish space observatory ASIM will be extended to 2025.', 'date': '25 OCT'}\n",
      "{'url': 'https://www.dtu.dk/english/news/nyhed?id={3FB34DF7-7204-47A4-B0FC-233658E5943A}', 'title': 'Young women spend their holiday discovering engineering', 'desc': '40 young women have built loudspeakers and learned about product development at DTU’s Engineering Camp. The purpose of the camp is to inspire more women to choose...', 'date': '22 OCT'}\n",
      "{'url': 'https://www.dtu.dk/english/news/nyhed?id={C2E62E3B-F155-43FB-A225-D862D0600A0B}', 'title': 'Move business and research closer together', 'desc': 'President Anders Bjarklev in Frederiksborg Amts Avis: New research must be put into practice in the business world to achieve the climate goals.', 'date': '18 OCT'}\n",
      "{'url': 'https://www.dtu.dk/english/news/nyhed?id={63310BD4-20F3-4C8D-87D3-E6545C66D79F}', 'title': 'Immunodeficiency affects intestinal microbiome', 'desc': 'Researchers find correlation between immunodeficiency and pathogenic intestinal bacteria.', 'date': '15 OCT'}\n",
      "{'url': 'https://www.dtu.dk/english/news/nyhed?id={8819EF9D-82CF-48FD-8C52-E64C6C483891}', 'title': 'New technology developed at DTU finds hidden cancer cells', 'desc': 'New technology allow researchers to find hidden cancer cells by measuring global protein levels in single cells.', 'date': '15 OCT'}\n",
      "{'url': 'https://www.dtu.dk/english/news/nyhed?id={777FD1B3-0485-4C4D-93F0-C0FD0BC7DE30}', 'title': 'Circular construction improves utilization of resources', 'desc': 'A sector development report from DTU recommends that the players in the construction sector join forces on large test projects and scaling of circular construction.', 'date': '14 OCT'}\n",
      "{'url': 'https://www.dtu.dk/english/news/nyhed?id={A0091CA0-0641-46F7-802B-7681115F3141}', 'title': 'Two female researchers receive Villum Postdoc grants', 'desc': 'Villum International Postdoc has just been awarded to six female researchers, including Marie Brøns and Jette Katja Mathiesen from DTU.', 'date': '14 OCT'}\n",
      "{'url': 'https://www.dtu.dk/english/news/nyhed?id={21766F41-1E4B-4248-B5D9-E4B4BD0574BF}', 'title': 'DTU students win the Danish Championship in programming', 'desc': 'Alice, Simon, and Alexander are all students at IT programmes at DTU. Last weekend they were the best, when 73 teams competed in programming.', 'date': '12 OCT'}\n",
      "{'url': 'https://www.dtu.dk/english/news/nyhed?id={B585C6B7-7D82-4B13-8E8B-A228A2015D1F}', 'title': 'DTU researchers are testing new carbon capture method', 'desc': 'Carbon capture today is mainly based on chemicals in liquid form. Now, researchers are testing carbon capture in a solid material.', 'date': '12 OCT'}\n",
      "{'url': 'https://www.dtu.dk/english/news/nyhed?id={A1C37F2E-F364-4CFF-8E33-A790929D1553}', 'title': 'Obese pigs help us understand human obesity', 'desc': 'Mapping of the complete genome of the obesity-prone Ossabaw pig gives new hope for further insights into human obesity and associated diseases', 'date': '11 OCT'}\n",
      "{'url': 'https://www.dtu.dk/english/news/nyhed?id={DA8C5390-AA33-4F5D-8B55-C3D6FA4DB934}', 'title': 'Green communities in focus in European digitalization project', 'desc': \"The project will be an important element in DTU's continued development of leading digital green solutions, says Professor Henrik Madsen.\", 'date': '08 OCT'}\n",
      "{'url': 'https://www.dtu.dk/english/news/nyhed?id={AC41C8C0-13CF-4568-A247-58996DF8D0D8}', 'title': 'Power-to-X: An essential part of the smart energy system', 'desc': 'Why is Power-to-X so important in a smart energy system and what are the challenges in meeting the goal? Five DTU researchers present their take.', 'date': '08 OCT'}\n",
      "{'url': '', 'title': 'DTU President: PhD students are role models for research and sustainability', 'desc': 'DTU President, Anders O. Bjarklev, talks with Professor Maja Horst about the mandatory PhD course “Sustainability Evaluation and communication”, and how the...', 'date': '07 OCT'}\n",
      "{'url': 'https://www.dtu.dk/english/news/nyhed?id={7611FE6F-2F65-4E9F-9547-0CBBBADFBC1A}', 'title': 'Digitalization is an important climate tool', 'desc': 'Carbon emissions from the Internet are on a par with emissions from the aerospace industry, but at the same time digital technologies are crucial to winning the battle...', 'date': '07 OCT'}\n",
      "{'url': 'https://www.dtu.dk/english/news/nyhed?id={5F18A121-4A59-456D-A1A7-D73DC600B021}', 'title': 'New campaign: Talk about it', 'desc': 'The Polyteknisk Forening (PF) student association is behind the campaign ‘Talk about it’, which will inform students about where to seek help if they experience...', 'date': '30 SEP'}\n",
      "{'url': 'https://www.dtu.dk/english/news/nyhed?id={333E2E88-72FF-4B94-A0AF-1BB9DD20B612}', 'title': 'President: At DTU in Ballerup, we research teaching', 'desc': 'Successful practice-oriented teaching is the subject of a systematic research effort at DTU in Ballerup, writes president Anders Bjarklev.', 'date': '29 SEP'}\n",
      "{'url': 'https://www.dtu.dk/english/news/nyhed?id={25B0DE05-72B3-4776-8D94-EEBEB1B6F58C}', 'title': 'Building renovation produces greatest sustainability', 'desc': 'A lifecycle assessment of four building types in Greenland shows potential for greater sustainability when renovating existing buildings made of concrete.', 'date': '28 SEP'}\n",
      "{'url': 'https://www.dtu.dk/english/news/nyhed?id={41E0052E-D16F-4EFB-BB97-2A9766D3624C}', 'title': 'Optical chip protects quantum technology from errors', 'desc': 'New quantum photonic processor uses entanglement to protect itself from errors. The feat is published in Nature Physics.', 'date': '28 SEP'}\n",
      "{'url': 'https://www.dtu.dk/english/news/nyhed?id={EF9E9E40-27A6-42FE-99D8-77892267F0F1}', 'title': 'Promising low-cost method for rapid Covid-19 detection', 'desc': 'DTU Health Tech researchers develop a method for detection of SARS-CoV-2 RNA with the ability to be designed to detect other diseases.', 'date': '27 SEP'}\n",
      "{'url': 'https://www.dtu.dk/english/news/nyhed?id={4E8D2E8D-685E-4C3E-BF1A-74D19954A9A0}', 'title': 'DTU opens new oyster hatchery on Mors', 'desc': 'State-of-the-art oyster hatchery offers new opportunities for education, research, and business collaboration.', 'date': '23 SEP'}\n",
      "{'url': 'https://www.dtu.dk/english/news/nyhed?id={0FE6D693-EC12-4DBB-9760-3C1C9F99CA5B}', 'title': 'It takes engineers to reach the UN Global Goals', 'desc': 'President Anders Bjarklev to Science Report:\\xa0The role of engineers is crucial for sustainable development.', 'date': '23 SEP'}\n",
      "{'url': 'https://www.dtu.dk/english/news/nyhed?id={D2705D91-14DF-4344-84A0-E23236B8336A}', 'title': \"DTU is part of the world's first research center on CO2 capture\", 'desc': 'DTU contributes development of enzymes to a new research center, which will remove CO2 from the atmosphere and convert it into raw materials.', 'date': '22 SEP'}\n",
      "{'url': 'https://www.dtu.dk/english/news/nyhed?id={7876262E-220D-4D32-B419-0B0160CCEECC}', 'title': 'Electronic glove and gaming make rehabilitation fun', 'desc': 'Gamification is part of the strategy when students at DTU moves health technology towards the market.', 'date': '21 SEP'}\n",
      "{'url': 'https://www.dtu.dk/english/news/nyhed?id={F8E16A18-40A8-4240-A59D-0BD10D67E7C8}', 'title': 'Vaccine Production on Mathematical Formula', 'desc': 'When Bavarian Nordic needs to plan the production of their smallpox vaccine, they use DTU-developed mathematical modelling to optimize their production.', 'date': '21 SEP'}\n",
      "{'url': 'https://www.dtu.dk/english/news/nyhed?id={556EF648-F7A5-41DD-AC6C-3092473FA0BE}', 'title': 'What Knowledge Do We Lack About the Ocean?', 'desc': 'The UN has declared the 2020s a ‘Decade of Ocean Science for Sustainable Development’. Why is this necessary and what important knowledge do we lack about the...', 'date': '21 SEP'}\n",
      "{'url': 'https://www.dtu.dk/english/news/nyhed?id={BF9330E5-F35E-46D1-9B17-6E92BDDAB373}', 'title': 'Spin-out expands with quick tests and antigen tests', 'desc': 'The spin-out company BluSense Diagnostics can use Blu-ray for rapid diagnosis of dengue fever and to measure immune response after COVID-19 vaccination.', 'date': '21 SEP'}\n",
      "{'url': 'https://www.dtu.dk/english/news/nyhed?id={7BEF96FE-373C-4D90-B70F-0A72532C03D8}', 'title': 'Machine Learning Helps Diagnose Inflammation of the Middle Ear', 'desc': 'PhD researcher will make it easier for doctors to make correct diagnoses when children have earaches to avoid hearing loss and unnecessary use of antimicrobial agents...', 'date': '21 SEP'}\n",
      "{'url': 'https://www.dtu.dk/english/news/nyhed?id={D2B031BC-0C99-44D7-BEED-00FC13CD2BD2}', 'title': 'He Focuses on a Small Cell of Great Importance', 'desc': 'Søren Bredmose Simonsen took a Bachelor’s degree in philosophy before immersing himself in physics studies. This led him to work with catalysis, and he is...', 'date': '21 SEP'}\n",
      "{'url': 'https://www.dtu.dk/english/news/nyhed?id={9D1BAC6D-0AE1-466A-BDD4-C2EFC3CEB4CE}', 'title': 'Green protein without taste of cowshed', 'desc': 'Researchers from DTU Food have developed a technique for extracting protein from green biomass without unwanted off-flavour.', 'date': '21 SEP'}\n",
      "{'url': 'https://www.dtu.dk/english/news/nyhed?id={9BCECE28-83F5-497C-A74E-004952C5E60A}', 'title': 'Biorefining Behind Climate-friendly Proteins', 'desc': 'With biorefining, we can extract proteins from green biomass and thus reduce the climate impact of livestock.', 'date': '21 SEP'}\n",
      "{'url': 'https://www.dtu.dk/english/news/nyhed?id={E4D98C3B-13AD-464D-9828-E9DDDDC5CECC}', 'title': 'Remote Infrared Radiation: New Technology Measures Thickness of Ice on Prawns', 'desc': 'DTU and Royal Greenland have collaborated on a new technology that can measure the thickness of the ice glaze on frozen prawns. This is important to know so that the prawns...', 'date': '21 SEP'}\n",
      "{'url': 'https://www.dtu.dk/english/news/nyhed?id={68D7C811-4DBA-43F7-B3A3-EC249CCC4FBB}', 'title': 'How agricultural sector can capture and store CO2', 'desc': 'Using pyrolysis, straw and liquid manure can be heated to very high temperatures and become biocoal and gas. The biocoal can be spread on fields and be stored for hundreds...', 'date': '21 SEP'}\n",
      "{'url': 'https://www.dtu.dk/english/news/nyhed?id={95F6A975-958A-4E40-836E-80CE2501644E}', 'title': 'President: Freedom to find and invent new solutions', 'desc': 'Research has a unique role when people have to find new and better ways of being in the world. Whether the burning platform is a pandemic or global warming, research gives...', 'date': '21 SEP'}\n",
      "{'url': 'https://www.dtu.dk/english/news/nyhed?id={E3004490-54FE-4902-A36C-ABEBA3742DC7}', 'title': 'Researchers psychoanalyses AI', 'desc': 'New research gives a peek into the brain of artificial intelligence (AI).', 'date': '17 SEP'}\n",
      "{'url': 'https://www.dtu.dk/english/news/nyhed?id={2401511E-6EF8-411D-9A64-CD5B14C96346}', 'title': 'Alliance with Singapore is to start green wave in shipping', 'desc': 'To achieve the Danish government’s goal of climate-neutral shipping in 2050, DTU has entered into an alliance with NTU in Singapore, the aim being for the universities...', 'date': '16 SEP'}\n",
      "{'url': 'https://www.dtu.dk/english/news/nyhed?id={840E0F3B-004F-47D8-B5FD-75D0A363A579}', 'title': 'Professor intends to see green chemical processes', 'desc': 'A new electron microscope can provide greater insight into individual nanoparticles in a catalyst used for, e.g., Power-to-X processes.', 'date': '16 SEP'}\n",
      "{'url': 'https://www.dtu.dk/english/news/nyhed?id={083C3C97-4EAF-410B-95F3-CD62C9A9E630}', 'title': 'Danish-African partnership strengthens food innovation', 'desc': 'East African entrepreneurs will develop projects and prototypes in collaboration with DTU students, researchers, and startups.', 'date': '15 SEP'}\n",
      "{'url': 'https://www.dtu.dk/english/news/nyhed?id={DA0136F2-7A8F-4257-B995-EC090E52D877}', 'title': 'Quantum materials cut closer than ever', 'desc': 'A new method designs nanomaterials with less than 10-nanometer precision. It could pave the way for faster, more energy-efficient electronics.', 'date': '13 SEP'}\n",
      "{'url': 'https://www.dtu.dk/english/news/nyhed?id={1812EF11-D1B8-4890-9CBB-524691A708F7}', 'title': 'Engineers of tomorrow have learned to think sustainability', 'desc': 'Our planet faces a number of major man-made challenges which must be solved by people. Some of these people will probably be engineers from DTU.', 'date': '10 SEP'}\n",
      "{'url': 'https://www.dtu.dk/english/news/nyhed?id={65E98971-822B-4A03-BE36-07E0793302B5}', 'title': 'Lack of risk-taking is slowing the green transition', 'desc': 'There’s not enough willingness to invest early in green technology, and this is delaying efforts to market sustainable new solutions that can make a difference. To...', 'date': '08 SEP'}\n",
      "{'url': 'https://www.dtu.dk/english/news/nyhed?id={B61BD05A-A193-4270-9CA0-BE47D02A8AE0}', 'title': 'New waste technology to reduce CO2 emissions', 'desc': 'A new Innovation Fund Denmark project will develop technology that reduces CO2 emissions from cement factories and delivers fuel with a low CO2 footprint.', 'date': '06 SEP'}\n",
      "{'url': 'https://www.dtu.dk/english/news/nyhed?id={290430C6-AAF6-4CAE-9EBE-65ADA52709F1}', 'title': 'A step towards a green transition in Poland', 'desc': 'Offshore wind in the Baltic Sea to make a bigger contribution to Poland’s green transition. DTU-collaboration may accelerate the process.', 'date': '03 SEP'}\n",
      "{'url': 'https://www.dtu.dk/english/news/nyhed?id={F26AA325-7B32-451C-AD00-CE81C169F67C}', 'title': 'Denmark gets its own unique 3D imaging centre', 'desc': 'Armed with northern Europe’s biggest imaging centre, Denmark now plays a central role in the growing use of X-ray and neutron imaging.', 'date': '03 SEP'}\n",
      "{'url': 'https://www.dtu.dk/english/news/nyhed?id={91843441-A47E-4941-91BF-731FF5822B21}', 'title': 'We educate students for a sustainable future', 'desc': \"President Anders Bjarklev: Sustainability is fundamental in all DTU's study programmes.\", 'date': '02 SEP'}\n",
      "{'url': 'https://www.dtu.dk/english/news/nyhed?id={55A98EE7-E086-42B9-8293-8AE4C6867268}', 'title': 'AI from DTU to help diagnose epilepsy', 'desc': 'Algorithm to ensure the quality of EEG examinations so more epilepsy patients in low middle income countries can receive treatment.', 'date': '01 SEP'}\n",
      "{'url': '', 'title': 'President: I have really been looking forward to this!', 'desc': 'With a new semester beginning, DTU welcomes many new students, and after a long period with studying and working from home old students and staff are also welcomed back...', 'date': '30 AUG'}\n",
      "{'url': 'https://www.dtu.dk/english/news/nyhed?id={D70E5C89-1BE1-4971-865E-396FCEB67253}', 'title': 'DTU students meet innovative companies in Triangle Region', 'desc': 'Matchmaking in Vejle will help bring DTU students and graduates around the country.', 'date': '27 AUG'}\n",
      "{'url': 'https://www.dtu.dk/english/news/nyhed?id={88086888-EE09-45B0-86B9-F3C7C660A98C}', 'title': 'Novel physics gives rise to the highest coherence for microscopic lasers', 'desc': 'Scientists from DTU have shown that a Fano laser, a new type of microscopic laser, has fundamental advantages compared to other types of lasers. The discovery can be important...', 'date': '27 AUG'}\n",
      "{'url': 'https://www.dtu.dk/english/news/nyhed?id={EA2ED04D-9F8E-49DF-B275-790E0CFAB523}', 'title': 'Power-to-X: Smart collaboration across sectors and local public support can make...', 'desc': 'Marie Münster, Professor of Energy System Modelling, to Energy Supply:\\xa0 If Denmark is to become a leader in the production of green fuels, we must break down...', 'date': '26 AUG'}\n",
      "{'url': 'https://www.dtu.dk/english/news/nyhed?id={EBB3B05A-92BC-4397-9372-CBAB67B7DA9C}', 'title': 'Fresher’s trip on campus: “Here you can both participate and take a breather”', 'desc': 'This year, the traditional fresher’s trip at DTU has competition. A four-day fresher’s trip on campus is an alternative for those sometimes in need of a break...', 'date': '25 AUG'}\n",
      "{'url': 'https://www.dtu.dk/english/news/nyhed?id={A5FD3870-1041-4B50-902E-2D83045786C2}', 'title': 'Conference focuses on the importance of ventilation for health', 'desc': 'The International Buildings Physics Conference, IBPC, brings together researchers for debate on ventilation in buildings after COVID-19.', 'date': '24 AUG'}\n",
      "{'url': 'https://www.dtu.dk/english/news/nyhed?id={C8498780-352A-4F0C-BCC3-CD67700FC792}', 'title': 'DTU focuses on sustainability', 'desc': 'Next month, nine large banners on DTU’s campuses in Lyngby and Ballerup will each tell their own story about how the University works with sustainability on campus...', 'date': '23 AUG'}\n",
      "{'url': 'https://www.dtu.dk/english/news/nyhed?id={76ACE163-E382-41E8-A7F1-2A38D83E0C9F}', 'title': 'Study start provided new energy on campus', 'desc': 'On Friday20 August 2.367 new students filled DTU’s campuses with dance and laughter. After a year with corona, many found it liberating to be able to start the new...', 'date': '22 AUG'}\n",
      "{'url': 'https://www.dtu.dk/english/news/nyhed?id={2A372881-B4E8-42EA-9FD9-6C8ED9E6DF51}', 'title': 'Photo posts reveal huge interest for real coastal nature', 'desc': 'A picture is worth a thousand words. So we say, and as for a research project on tourists, nature and social media published in the magazine One Earth today 20 August millions...', 'date': '20 AUG'}\n",
      "{'url': 'https://www.dtu.dk/english/news/nyhed?id={D88A7A17-5063-4887-8B5A-C65532E735A1}', 'title': 'Groundbreaking visualization of atomic movements', 'desc': 'Novel method for imaging vibrations and movements of atoms in catalysts is developed by a collaboration of internationally leading researchers.', 'date': '19 AUG'}\n",
      "{'url': 'https://www.dtu.dk/english/news/nyhed?id={6B77E20D-07CD-40EE-831A-4E7E598B5BE3}', 'title': 'Let us seize the opportunity for a more flexible working life', 'desc': 'The corona pandemic turned working life upside down as we knew it. The experiences with homework now give us a unique opportunity to create a more flexible working life...', 'date': '18 AUG'}\n",
      "{'url': 'https://www.dtu.dk/english/news/nyhed?id={8B20F7DD-38DE-4563-BF5E-7CC45F531C9B}', 'title': 'Sustainability pays off in the long run', 'desc': 'At DTU, all of us—staff, students, and everyone with whom DTU interacts—have a responsibility to contribute to a sustainable transformation of society. The...', 'date': '13 AUG'}\n",
      "{'url': 'https://www.dtu.dk/english/news/nyhed?id={F7D51884-B52F-49E8-87AB-4F463BEB73A4}', 'title': 'DTU develops sustainability throughout the University', 'desc': 'DTU’s campus is used as a Living Lab for the development of sustainable solutions in new builds, energy supply, operation, and waste sorting.', 'date': '12 AUG'}\n",
      "{'url': 'https://www.dtu.dk/english/news/nyhed?id={BFC87FB1-82B6-471B-A10A-B2827C7BA834}', 'title': 'An action agenda for Africa’s electricity sector', 'desc': 'A new policy article in Science outlines how to undertake the much-needed expansion and modernization of Africa’s electricity sector. The article highlights the crucial...', 'date': '05 AUG'}\n",
      "{'url': 'https://www.dtu.dk/english/news/nyhed?id={6DB1E03C-6EFF-4E87-BC1D-A53835CF3B99}', 'title': 'In memory of professor John Villadsen', 'desc': 'Department Head Kim Dam-Johansen and Professor Jens Nielsen remember Professor John Villadsen, who died on 22 July.', 'date': '30 JUL'}\n",
      "{'url': 'https://www.dtu.dk/english/news/nyhed?id={E1BBE776-B1B1-4E05-87E3-302EA79E4604}', 'title': 'More than 80 per cent of DTU study programmes full', 'desc': 'Impressive intake to DTU’s 36 study programmes again this year. A total of 2,386 new students have today been told that they can start their studies in September...', 'date': '27 JUL'}\n",
      "{'url': 'https://www.dtu.dk/english/news/nyhed?id={EA9F7BF8-45D1-45C8-87AD-7832E91B42BF}', 'title': 'This is how we can live on the moon', 'desc': 'In a simulated lunar mission, two architects spent three months in North Greenland testing their fold-out moon habitat. The mission, which was aided by experts from DTU...', 'date': '22 JUL'}\n",
      "{'url': 'https://www.dtu.dk/english/news/nyhed?id={65B44E17-470A-4489-8B9E-1602F115DDB3}', 'title': 'Full speed ahead for 3D concrete printers', 'desc': 'The Danish company COBOD International manufactures 3D concrete printers for a rapidly expanding international market.', 'date': '19 JUL'}\n",
      "{'url': 'https://www.dtu.dk/english/news/nyhed?id={9DC3C944-6E80-48E5-A280-A331C2C99DC7}', 'title': 'Algorithm can detect biomarker in aggressive breast cancer', 'desc': 'Jeppe Thagaard has developed a mathematical model for use in automated image analysis of tissue samples. The model provides the possibility for better and more similar...', 'date': '15 JUL'}\n",
      "{'url': 'https://www.dtu.dk/english/news/nyhed?id={E5269EC6-98A9-4AA0-A93F-B382520EABE8}', 'title': 'Algoritme kan opdage biomarkør i aggressiv brystkræft', 'desc': 'Jeppe Thagaard har udviklet en matematisk model, der automatisk kan foretage billedanalyser af vævsprøver. På sigt vil det kunne gøre kr&aelig...', 'date': '15 JUL'}\n",
      "{'url': 'https://www.dtu.dk/english/news/nyhed?id={84B46117-F6E6-4A41-A1C7-3E29CF4E8108}', 'title': 'Test with self-driving buses is extended', 'desc': 'Our test drive with the self-driving LINC buses on DTU Campus in Lyngby has been extended throughout the autumn 2021. This opens up the possibility that more students...', 'date': '13 JUL'}\n"
     ]
    },
    {
     "name": "stdout",
     "output_type": "stream",
     "text": [
      "{'url': 'https://www.dtu.dk/english/news/nyhed?id={896D1F03-4039-4F20-874A-A9471F6B6645}', 'title': 'DTU researchers tighten grip on quantum computer', 'desc': 'In a new groundbreaking work, researchers from DTU have now realized the complete platform for an optical quantum computer. The platform is universal and scalable, it all...', 'date': '10 JUL'}\n",
      "{'url': 'https://www.dtu.dk/english/news/nyhed?id={F5DA8D1C-91A3-47E1-A00D-3DF43E963C66}', 'title': '3 questions about 3D concrete printing', 'desc': 'Thomas Juul Andersen is team leader at the Concrete Centre at Danish Technological Institute. He has been working with 3D concrete printing for several years and is leading...', 'date': '08 JUL'}\n",
      "{'url': 'https://www.dtu.dk/english/news/nyhed?id={7A2269B2-3FEA-4E8C-B2CA-35505255C997}', 'title': '7,402 have applied to DTU', 'desc': 'As expected, the number of quota 1 applications to DTU has fallen from the exceptionally high level of 8,376 in 2020 to 7,402 this year. However, it is satisfying to see...', 'date': '05 JUL'}\n",
      "{'url': 'https://www.dtu.dk/english/news/nyhed?id={E91EF010-08B9-4233-84E1-0F178713EF6D}', 'title': '3D concrete printing offers both opportunities and challenges', 'desc': 'For 3D concrete printing to become a reliable construction technology, both the concrete and the printing process must be fully controlled. Danish engineers, architects...', 'date': '04 JUL'}\n",
      "{'url': 'https://www.dtu.dk/english/news/nyhed?id={CE96528A-F43E-424E-AA5D-8A324DC536D1}', 'title': 'New method for cleaning lakes shows promising results', 'desc': 'A pilot project in Lake Søllerød has very successfully used electrodes to oxygenate lakebed. The method should now be tested in a large demonstration trial...', 'date': '02 JUL'}\n",
      "{'url': 'https://www.dtu.dk/english/news/nyhed?id={D1E7495F-7B10-413F-A099-64C7CCA3EA90}', 'title': 'Student making tomorrow’s laundry more eco-friendly', 'desc': 'Along with Novozymes, chemistry student Simone Anika Skou Olsen has been developing new methods for measuring detergent and other residues in our clothes. This can potentially...', 'date': '02 JUL'}\n",
      "{'url': 'https://www.dtu.dk/english/news/nyhed?id={8AE4195B-79EC-4FD4-B9A9-6C03212D3111}', 'title': 'Regionalization agenda must not compromise quality in education', 'desc': 'The Danish government has rushed through an agreement aimed at offering more courses and study programmes outside the four major cities in Denmark. As president of DTU...', 'date': '30 JUN'}\n",
      "{'url': 'https://www.dtu.dk/english/news/nyhed?id={248A451B-ABCA-4C8C-A8E9-DEAD6DC48FCA}', 'title': 'Study maps effect of dietary fiber', 'desc': 'Analysis methods map the effect of dietary fiber on human intestinal bacteria, the microbiome, and show that not all fibers are equal and that different dietary fibers...', 'date': '30 JUN'}\n",
      "{'url': 'https://www.dtu.dk/english/news/nyhed?id={C273A299-5BF3-4A8A-A916-C2768BC67891}', 'title': 'Corona restrictions lead to fewer cases of foodborne illness', 'desc': 'In 2020, far fewer Danes than usual were diagnosed with a foodborne illness. The sharp reduction in travel during the corona epidemic was the main reason for this decrease...', 'date': '30 JUN'}\n",
      "{'url': 'https://www.dtu.dk/english/news/nyhed?id={9166F25C-4B31-4E6B-9D5A-5CC699B68DF6}', 'title': 'Idea for sustainable fish farms wins Venture Cup', 'desc': 'DTU students’ idea for alternative fish feed wins entrepreneurial competition for the best university startups in Denmark.', 'date': '29 JUN'}\n",
      "{'url': 'https://www.dtu.dk/english/news/nyhed?id={5CFD8B2E-1617-4169-BAB3-955858BCFDAB}', 'title': 'Biotechnology is the future and Sophia wants to be part of it', 'desc': 'Portrait Sophia Heyde is deeply committed to making a contribution to a more sustainable world. And she’s convinced that biotechnology can solve many of our problems...', 'date': '29 JUN'}\n",
      "{'url': 'https://www.dtu.dk/english/news/nyhed?id={2C39C017-10D0-4F12-ADDA-14A1E277D7BD}', 'title': 'Green Challenge drives ambition for social sustainability', 'desc': 'The DTU student conference, Green Challenge 2021, emphasized social inclusion as an integral part of engineering new sustainable and technological solutions.', 'date': '29 JUN'}\n",
      "{'url': 'https://www.dtu.dk/english/news/nyhed?id={334FB8C7-B444-40A7-BA47-2C5E26622E8F}', 'title': 'DTU receives positive institutional accreditation for the second time', 'desc': \"The Danish Accreditation Institution has just awarded DTU a positive institutional accreditation - a stamp that DTU's quality system works in practice and contributes to...\", 'date': '28 JUN'}\n",
      "{'url': 'https://www.dtu.dk/english/news/nyhed?id={CA7890CB-FF93-4152-A968-832DD0EA06F4}', 'title': 'Our learning environment is good—and we can make it better', 'desc': 'When we launched the latest learning environment survey in late 2020, it was headed ‘Your opinion counts’. These were not empty words, mind you, because DTU...', 'date': '25 JUN'}\n",
      "{'url': 'https://www.dtu.dk/english/news/nyhed?id={23BF2C9A-B679-401C-8B7F-691779DC5978}', 'title': 'DTU students develop ‘groundbreaking’ course in innovation', 'desc': 'DTU will soon be the only university in Denmark to give all MSc students the tools to have great ideas. This will happen when a new course, developed with help from the...', 'date': '24 JUN'}\n",
      "{'url': 'https://www.dtu.dk/english/news/nyhed?id={5C8C1635-EC12-4483-9E55-5419A0E74DB3}', 'title': 'Where are the empty containers going?', 'desc': 'Containers without goods are moved around the world’s oceans in an expensive operation that places a heavy burden on the environment. With the help of DTU, Maersk...', 'date': '23 JUN'}\n",
      "{'url': 'https://www.dtu.dk/english/news/nyhed?id={3D469EF1-4B19-4725-A7B5-FB4B8D07B14D}', 'title': 'The President to DTU researchers: Freedom of research is not up for negotiation', 'desc': \"When a broad majority in the Danish Parliament declares that the universities must sharpen their supervision of our researchers' scientific practice, it shakes a fundamental...\", 'date': '21 JUN'}\n",
      "{'url': 'https://www.dtu.dk/english/news/nyhed?id={53E0C06E-D09D-4DAE-8C71-9542D7377468}', 'title': 'Cells optimised to produce substance that holds potential to improve ‘healthy...', 'desc': \"A new scientific study published in Nature Catalysis shows that baker's yeast can be designed and optimised to produce polyamines and polyamine analogues for tackling grand...\", 'date': '18 JUN'}\n",
      "{'url': 'https://www.dtu.dk/english/news/nyhed?id={08B44E5C-A609-4A83-88EC-6E629F59A8AF}', 'title': 'Cells optimised to produce substance that holds potential to improve ‘healthy...', 'desc': \"A new scientific study published in Nature Catalysis shows that baker's yeast can be designed and optimised to produce polyamines and polyamine analogues for tackling grand...\", 'date': '18 JUN'}\n",
      "{'url': 'https://www.dtu.dk/english/news/nyhed?id={F47BAA47-E3CA-4099-A246-4531B15B9A0A}', 'title': 'EuroTech Universities Alliance celebrates 10th anniversary', 'desc': 'This year marks the 10th anniversary of the EuroTech Universities Alliance—a strategic partnership of leading European universities of science and technology. Rasmus...', 'date': '17 JUN'}\n",
      "{'url': 'https://www.dtu.dk/english/news/nyhed?id={B96E6D7B-3AA4-473E-8964-79A74709016A}', 'title': 'New digital tool tracks DTU research performance', 'desc': 'A new DTU-developed digital tool makes it possible to continuously track how DTU’s research performs against international competition.', 'date': '15 JUN'}\n",
      "{'url': 'https://www.dtu.dk/english/news/nyhed?id={36BE745B-13D7-47D7-BB86-ECA8B1C77795}', 'title': '“Technology fascinates me, especially when it can be used for good”', 'desc': 'Mads Vandborg studies how to prepare the internet for the future by changing the frequency of its signals. He loves technology and is among the 10 per cent of students...', 'date': '14 JUN'}\n",
      "{'url': 'https://www.dtu.dk/english/news/nyhed?id={0365D6C6-2F2B-4A6F-8F65-8DEAE80A59B5}', 'title': 'Become a mentor for a DTU student', 'desc': 'Do you want to help the next generation of DTU students prepare for their career? Become a mentor!', 'date': '11 JUN'}\n",
      "{'url': 'https://www.dtu.dk/english/news/nyhed?id={8FA0626B-894B-4B60-B1DA-6ED8C439ADF5}', 'title': 'Greenlandic seaweed, a sustainable alternative to imported greens', 'desc': 'Seaweed grown in Greenland is a safe, healthy and sustainable food source that could replace up to 20% of the country’s import of vegetables, according to a study...', 'date': '10 JUN'}\n",
      "{'url': 'https://www.dtu.dk/english/news/nyhed?id={55F86125-7D8F-4DA8-BAC2-8D7ADEE547B5}', 'title': '“We can only survive if we see the world as a whole”', 'desc': 'Portrait\\xa0DTU’s new Chairman of the Board of Governors is a woman with a clear vision for the University’s unique role in society. The University can unite...', 'date': '10 JUN'}\n",
      "{'url': 'https://www.dtu.dk/english/news/nyhed?id={F11E13F9-6A26-46BA-95D7-89B409583B83}', 'title': 'DTU in the top 100 in the world rankings', 'desc': 'The Technical University of Denmark is now among the top 100 universities in the world according to the 2022 QS World University Rankings.', 'date': '09 JUN'}\n",
      "{'url': 'https://www.dtu.dk/english/news/nyhed?id={0AC5CE39-FC13-41B8-9B4C-BFC2241C6328}', 'title': 'Artificial intelligence can significantly reduce company driving', 'desc': \"Automated planning will help TDC NET's service cars reduce the number of kilometers driven by 25 percent. The solution will later be extended to others with a lot of company...\", 'date': '08 JUN'}\n",
      "{'url': 'https://www.dtu.dk/english/news/nyhed?id={766AB829-A7B5-4E62-8E27-1D97AD7032AE}', 'title': 'Bioengineering tomorrows’ sustainable plant-based food', 'desc': 'Two new projects with participation from DTU aim at developing a new food category of tasty plant based proteins.', 'date': '08 JUN'}\n",
      "{'url': 'https://www.dtu.dk/english/news/nyhed?id={0D6216AE-A3DC-492F-966E-556159B1E9F9}', 'title': 'Roskilde Festival and DTU award sustainability prize', 'desc': 'For the first time, DTU and Roskilde Festival have awarded a joint prize to young research talents who contribute to sustainable change in society.', 'date': '07 JUN'}\n",
      "{'url': 'https://www.dtu.dk/english/news/nyhed?id={8000CF4C-B58D-444E-BB82-49863C3BBE78}', 'title': 'Student wins prestigious SIT Furniture Design Award', 'desc': 'Dorottya Párdányi completed a master’s degree project in collaboration with the Danish design firm, HAY. The chair she designed, able to be flat-packed...', 'date': '07 JUN'}\n",
      "{'url': 'https://www.dtu.dk/english/news/nyhed?id={BAB13D22-8C96-43B3-BFB1-2A5EAD5384B4}', 'title': 'Research into green energy solutions', 'desc': 'Danish universities led by DTU and GreenLab Skive are further strengthening their collaboration to develop and demonstrate the energy systems of the future—with the...', 'date': '06 JUN'}\n",
      "{'url': 'https://www.dtu.dk/english/news/nyhed?id={626874D5-0E5B-4BA2-A4E7-FB885EE3EFB3}', 'title': 'Exchange stay attracts Arctic Civil Engineering students', 'desc': 'While many students have had to drop their plans for an exchange stay during the coronavirus pandemic, BEng student Poul-Erik Siegstad is on an exchange stay on Svalbard...', 'date': '04 JUN'}\n",
      "{'url': 'https://www.dtu.dk/english/news/nyhed?id={7DBBC7D5-DD27-4F07-9F60-E7C32FD629CE}', 'title': 'What’s going on with nuclear power?', 'desc': 'The press is full of articles about nuclear power. Several European countries are planning new nuclear power plants. Has nuclear power become trendy? And will it come to...', 'date': '04 JUN'}\n",
      "{'url': 'https://www.dtu.dk/english/news/nyhed?id={9EB52557-829A-4026-9E15-8A56DEC2AA9E}', 'title': 'Exercise prosthesis to improve life for active amputees', 'desc': 'Start-up develops new ‘plug-and-play’ prosthesis for exercisers in close collaboration with engineers and business developers at DTU.', 'date': '02 JUN'}\n",
      "{'url': 'https://www.dtu.dk/english/news/nyhed?id={882DB93C-1ECD-447D-8957-E6A367A99150}', 'title': 'Researchers will print organic structures – with cement-free concrete', 'desc': 'Researchers are patenting a new concrete recipe which does away with cement—the main carbon dioxide component in concrete. Instead, they are turning to organic substances...', 'date': '01 JUN'}\n",
      "{'url': 'https://www.dtu.dk/english/news/nyhed?id={A1A0739A-88AA-43FB-8E84-28597729EEFB}', 'title': 'The consequences of malnutrition are inheritable', 'desc': 'Damage to the microbiome caused by malnutrition is transmitted from mothers to newborns and has lifelong consequences for their physical and intellectual development.', 'date': '31 MAY'}\n",
      "{'url': 'https://www.dtu.dk/english/news/nyhed?id={3939053D-8FDE-45C4-8B97-F3420A02EB86}', 'title': 'Basis established for new generation of loudspeakers', 'desc': 'Mathematical model makes it possible to design future loudspeakers with a shape and in a material which significantly improve sound quality and which design engineers would...', 'date': '31 MAY'}\n",
      "{'url': 'https://www.dtu.dk/english/news/nyhed?id={4B17AD8E-95B1-48ED-B385-F97682C773E2}', 'title': 'Students printing walls', 'desc': 'In the spring, DTU’s large 3D concrete printer was used by students participating in a competition to develop innovative solutions for printed houses.', 'date': '29 MAY'}\n",
      "{'url': 'https://www.dtu.dk/english/news/nyhed?id={C7FAF4BE-687F-494F-A822-D1DFA4EA20DA}', 'title': '“We’re looking for new architectural expressions”', 'desc': '3D concrete printing will give architects more flexibility and new forms of expression when designing buildings, says Catherine Huang, partner in BIG—Bjarke Ingels...', 'date': '29 MAY'}\n",
      "{'url': 'https://www.dtu.dk/english/news/nyhed?id={CEEAE6B1-160C-44A5-820F-6F3CD50E68D2}', 'title': '100 players have developed roadmap for green fuels', 'desc': 'More than 100 different companies, cluster organizations, and knowledge institutions have joined forces to outline a path for the development of the green fuels of tomorrow...', 'date': '28 MAY'}\n",
      "{'url': 'https://www.dtu.dk/english/news/nyhed?id={8ABEA02E-C55C-4917-81EC-914E7373F288}', 'title': 'Mathematical model developed to prevent botulism', 'desc': 'Food producers can use a mathematical model developed at the National Food Institute, Technical University of Denmark, to ensure their products do not cause botulism. It...', 'date': '27 MAY'}\n",
      "{'url': 'https://www.dtu.dk/english/news/nyhed?id={9E4CC518-2757-4447-9990-D4CCCFE3E8DA}', 'title': 'Platform for managing smart digital energy systems', 'desc': 'Digitalization of our energy systems has increased the need for a better overview of the data and their uses. At the same time, heightened data integrity and cybersecurity...', 'date': '27 MAY'}\n",
      "{'url': 'https://www.dtu.dk/english/news/nyhed?id={D7A58A4D-2A13-42C4-88E2-03F63AB667BA}', 'title': 'World’s smallest fruit picker controlled by artificial intelligence', 'desc': 'Inspired by insects that suck nutrients directly from plant veins, physicists from DTU have studied whether valuable chemical substances can be harvested directly from...', 'date': '26 MAY'}\n",
      "{'url': 'https://www.dtu.dk/english/news/nyhed?id={0D32DDDA-F0B7-47B3-B08A-4FC9DD5BF928}', 'title': 'Folkemødet at Bryggen 2021 – Tech Tent goes digital', 'desc': 'Engineers will livestream debates from the Tech Tent at Kalvebod Brygge on Thursday 17 June. Get an overview of the debates below.', 'date': '25 MAY'}\n",
      "{'url': 'https://www.dtu.dk/english/news/nyhed?id={C24979D2-9545-4D9E-909E-314960B975E3}', 'title': 'Autonomous drone being developed for hazardous inspection job', 'desc': 'Together with FORCE Technology, DTU is developing an autonomous drone to be used for inspection of, for example, closed ship tanks that are otherwise difficult to access...', 'date': '25 MAY'}\n",
      "{'url': 'https://www.dtu.dk/english/news/nyhed?id={01782B95-3945-40BB-9EED-C7C9B5193A6B}', 'title': 'New street names at Lyngby Campus to honour women', 'desc': 'Several streets and locations on DTU’s campus in Lyngby are given new names that reflect women’s contributions.', 'date': '19 MAY'}\n",
      "{'url': 'https://www.dtu.dk/english/news/nyhed?id={FFCCC20A-C046-433C-9246-A51519216A62}', 'title': 'Significant contribution to the green transition is honored', 'desc': 'Developing better catalysts is essential to make Power-to-X and the transition to a more sustainable society possible. Associate Professor Jakob Kibsgaard receives the...', 'date': '18 MAY'}\n",
      "{'url': 'https://www.dtu.dk/english/news/nyhed?id={1A338378-113A-4468-B63B-6139EDF7644F}', 'title': 'Students tackle climate challenges in the water sector', 'desc': 'International students and startups are taking part in the finals of the Next Generation Water Action initiative with proposals for solving problems caused by drought...', 'date': '12 MAY'}\n",
      "{'url': 'https://www.dtu.dk/english/news/nyhed?id={2C880FA0-579B-4AA3-B736-2723902B6EB9}', 'title': 'New HR Director at DTU', 'desc': 'On 17 May, Pia Lyhne will become DTU’s new HR Director. In her new role, she will help maintain and develop DTU’s position as an internationally recognized...', 'date': '12 MAY'}\n",
      "{'url': 'https://www.dtu.dk/english/news/nyhed?id={D43F8432-3E89-43A0-BCA8-009C7906DE52}', 'title': 'EliteForsk travel grant to environmental engineer', 'desc': 'Young researcher receives EliteForsk travel grant for his groundbreaking work to find new methods for using electric fields to clean up contaminated sites and for the sustainable...', 'date': '11 MAY'}\n",
      "{'url': 'https://www.dtu.dk/english/news/nyhed?id={02BC6834-E4F4-4703-8778-B5618635A955}', 'title': 'Small antennas with great potential', 'desc': 'WingNet, a Danish start-up, aims to give more of the world’s poorest people access to the Internet, so they can participate in society’s digital development...', 'date': '11 MAY'}\n",
      "{'url': 'https://www.dtu.dk/english/news/nyhed?id={A5E1356A-9A57-49AF-89F9-CB58E64A2E2F}', 'title': 'Large EU project to create attractive green transport', 'desc': 'An EU project will improve sustainable transport alternatives to the car by—for example—focusing on travellers’ preferences, making it easier to get from...', 'date': '10 MAY'}\n",
      "{'url': 'https://www.dtu.dk/english/news/nyhed?id={2C9F3D0C-BD7B-453A-B6CD-AD9257822156}', 'title': 'From PhD at DTU to nomination for the ‘Oscars of Research’', 'desc': 'Marco Donolato, who has a PhD from DTU and co-founded the DTU-based startup BluSense Diagnostics, has been nominated for the 2021 European Inventor Award in the &lsquo...', 'date': '10 MAY'}\n",
      "{'url': 'https://www.dtu.dk/english/news/nyhed?id={23FD8CE3-ADD9-4250-B1AF-2557C8B4FCE9}', 'title': 'Food Tech startup wins accelerator program', 'desc': \"Thursday, May 6, 2021 eight teams pitched their business cases at the DTU Skylab Ignite Finals that was streamed live from DTU Skylab's LinkedIn profile.\", 'date': '07 MAY'}\n",
      "{'url': 'https://www.dtu.dk/english/news/nyhed?id={E22F7782-6448-4AE1-B918-7D1966EBCAA4}', 'title': 'DTU test passengers give input to self-driving future', 'desc': 'Students and staff at DTU in Lyngby can now take an autonomous shuttle when going around campus. They share their experiences with the researchers behind the project, so...', 'date': '07 MAY'}\n",
      "{'url': 'https://www.dtu.dk/english/news/nyhed?id={4AEF76AE-A2F2-4AC8-806C-3CB74A967B3A}', 'title': 'New academy is to strengthen data science in Denmark', 'desc': 'New national academy aims to lift Denmark into the global super league in data science areas such as machine learning, artificial intelligence and the internet of things...', 'date': '05 MAY'}\n",
      "{'url': 'https://www.dtu.dk/english/news/nyhed?id={0C8BCD0E-02FD-47DD-BF22-22C9249A0FA2}', 'title': \"'Open entrepreneurship' gives a boost to innovation\", 'desc': 'Experienced entrepreneurs are creating new companies with researchers from Denmark’s universities under an award-winning entrepreneurial project. To date, it has...', 'date': '04 MAY'}\n",
      "{'url': 'https://www.dtu.dk/english/news/nyhed?id={D1C11702-5A7C-4D64-BF52-6770D0A6C43F}', 'title': 'New sensor to improve animal welfare at fish farms', 'desc': 'A collaboration between DTU and Danish OxyGuard, a world-leading supplier of fish farm equipment, will develop a new sensor that can monitor the water quality at fish farms...', 'date': '03 MAY'}\n",
      "{'url': 'https://www.dtu.dk/english/news/nyhed?id={BA11CF03-411A-4BE1-B807-872787CF2CA6}', 'title': 'Passionate lecturer with an eye for the individual', 'desc': 'Bastian Epp is passionate about eliciting that special look a student gets when they understand the nature of something complex. And he’ll go to great lengths to...', 'date': '03 MAY'}\n",
      "{'url': 'https://www.dtu.dk/english/news/nyhed?id={72707024-BD9C-4469-A113-EFA309A7972C}', 'title': 'DKK 50 million for sustainable biotech solutions', 'desc': 'Innovation Fund Denmark supports research into sustainable solutions to control fungal pathogens in agriculture, to break down plastic and to accelerate bioproduction of...', 'date': '29 APR'}\n",
      "{'url': 'https://www.dtu.dk/english/news/nyhed?id={D8D98BF1-96FB-42B6-A16B-77D8107CEDD1}', 'title': '“You need to show that you’re human”', 'desc': 'Henrik Bechmann was named Lecturer of the Year 2021 for his extraordinary ability to teach varied and exciting classes—and for his willingness to go far beyond the...', 'date': '29 APR'}\n",
      "{'url': 'https://www.dtu.dk/english/news/nyhed?id={6B634676-E9FD-4B96-941D-3909EEF62ED2}', 'title': 'Inspired by lotus flower petals', 'desc': 'Professor Rafael Taboryski from DTU Nanolab is inspired by the microstructures of nature, including the surface of the lotus flower’s petals. He has now been awarded...', 'date': '28 APR'}\n",
      "{'url': 'https://www.dtu.dk/english/news/nyhed?id={14B4461A-3EB8-42D6-8C9D-F5F8012EBCE2}', 'title': 'Innovation—the lifeblood of our welfare society', 'desc': 'Viewpoint\\xa0Innovation is a prerequisite for progress and prosperity in Danish society. But innovation does not happen on its own—it requires a conscious effort...', 'date': '27 APR'}\n",
      "{'url': 'https://www.dtu.dk/english/news/nyhed?id={7B57754E-D512-4ED6-BF73-18A959D9E696}', 'title': 'Lactic acid bacteria can extend the shelf life of foods', 'desc': 'Researchers at the National Food Institute, Technical University of Denmark, have generated a lactic acid bacterium that efficiently secretes a food-grade preservative...', 'date': '27 APR'}\n",
      "{'url': 'https://www.dtu.dk/english/news/nyhed?id={E3615BB7-0AF7-4159-9F0C-04FED54B89B8}', 'title': 'Delve into Denmark’s technical cultural heritage', 'desc': 'DTU Library has digitized a large number of books from before 1920 and photographs from the large industrial exhibition held in Copenhagen in 1888. The website ‘Danmarks...', 'date': '27 APR'}\n",
      "{'url': 'https://www.dtu.dk/english/news/nyhed?id={5AEE3785-2806-41CF-9A19-51A2112AFA4B}', 'title': '4,000 cubic metres of granite to protect fauna and coasts', 'desc': 'How can we combine coastal protection with greater biodiversity?\\xa0A new DTU project aims to investigate this topic.', 'date': '27 APR'}\n",
      "{'url': 'https://www.dtu.dk/english/news/nyhed?id={8D9189F3-5FFB-4A77-8918-24F1B9B0A43C}', 'title': 'Large EU project to develop carbon capture technologies', 'desc': 'In a new Horizon 2020 project, DTU will lead demonstration projects involving new electricity-based technologies for carbon capture, use and storage.', 'date': '26 APR'}\n",
      "{'url': 'https://www.dtu.dk/english/news/nyhed?id={D728778E-84D7-4A05-A0DA-4283BACA0C25}', 'title': 'Live stream of Commemoration Day from DTU Library', 'desc': 'DTU’s 2021 Commemoration Day was streamed live from DTU Lyngby Campus while the audience shared the event on social media. The event ended with a concert by Infernal...', 'date': '26 APR'}\n",
      "{'url': 'https://www.dtu.dk/english/news/nyhed?id={E041E412-2381-4F01-80BF-15664353288B}', 'title': 'Student start-up aim to stimulate green electricity production', 'desc': 'The Reel student project receives the award as DTU student startup of the year for its creation of financing agreements which allow citizens and small and medium-sized...', 'date': '23 APR'}\n",
      "{'url': 'https://www.dtu.dk/english/news/nyhed?id={FFD517C9-E78F-407B-AE7D-88C31BC2DA69}', 'title': 'DTU 3D scans dinosaur skull', 'desc': 'DTU Compute and DTU Physics will develop new methods to (mass) digitize natural heritage animals and insects, so that museum objects are accessible to all, and at the same...', 'date': '23 APR'}\n",
      "{'url': 'https://www.dtu.dk/english/news/nyhed?id={6DD2579B-836E-4A60-BE4A-46DCA7F5029D}', 'title': 'ERC Advanced Grant to understand enzyme stability', 'desc': 'A new ERC project aims to improve our understanding of enzyme stability and broaden the field of potential applications for biocatalysis.', 'date': '22 APR'}\n",
      "{'url': 'https://www.dtu.dk/english/news/nyhed?id={B9406B77-1D28-4BA2-8342-DD2104D59395}', 'title': 'New Master of Sustainable and Safe Food Production', 'desc': 'DTU and the University of Copenhagen are launching a joint Master of Sustainable and Safe Food Production in early 2022. The programme will provide insight into the complex...', 'date': '22 APR'}\n",
      "{'url': 'https://www.dtu.dk/english/news/nyhed?id={91B30FFF-E146-4245-92BA-742046DB2010}', 'title': 'DTU strengthens its Executive Board with new Senior Vice President', 'desc': 'Carsten Orth Gaarn-Larsen is employed as Senior Vice President at DTU per. 1 May 2021. Together with the rest of the Executive Board, he must ensure that DTU lives up to...', 'date': '21 APR'}\n",
      "{'url': 'https://www.dtu.dk/english/news/nyhed?id={CD97E458-50CE-4629-9D72-9B406D262D15}', 'title': 'Recycling electronic waste from solar devices in Kenya', 'desc': 'A new research project at the UNEP DTU Partnership will help create better opportunities for collecting and recycling electronic waste from small solar PV systems in Kenya...', 'date': '20 APR'}\n",
      "{'url': 'https://www.dtu.dk/english/news/nyhed?id={06870E76-ECB3-460A-A473-A3CEDF5756B8}', 'title': 'Laser researcher to build mini synchrotron facility', 'desc': 'Synchrotron facilities such as Max IV in Lund are large and expensive, and there are only a few of them. Professor Ole Bang wants to build a unique facility that is small...', 'date': '20 APR'}\n",
      "{'url': 'https://www.dtu.dk/english/news/nyhed?id={657A9DF8-35D4-47BF-8486-AD2F638DA336}', 'title': 'Dream of a new marine research vessel comes true', 'desc': \"A donation of DKK 50 million from the A.P. Moller Foundation contributes to the realization of Denmark's new ocean-going research vessel.\", 'date': '19 APR'}\n",
      "{'url': 'https://www.dtu.dk/english/news/nyhed?id={D25B85B2-243D-4C62-BB55-58ABA8C99F4C}', 'title': 'New calculation of risks and costs of storm surges', 'desc': 'A new report on and model of damage costs from DTU will help Danish municipalities assess the risk of flooding and which costs they can expect flooding to incur for buildings...', 'date': '15 APR'}\n",
      "{'url': 'https://www.dtu.dk/english/news/nyhed?id={2D52D982-AE78-4A22-9FA1-D2F4E1EEA619}', 'title': 'Making sense from the chaos of turbulence', 'desc': 'Turbulence flows are chaotic and impossible to predict, even using statistics. At least they have been until now. Associate Professor Clara Velte intends to challenge this...', 'date': '15 APR'}\n",
      "{'url': 'https://www.dtu.dk/english/news/nyhed?id={A7F01CFE-55C2-47D0-B681-C772F870FCDE}', 'title': 'Grant running into millions for research into ultrathin materials', 'desc': 'One of the world’s leading researchers in 2D materials has just received a Villum Investigator Grant of DKK 30 million to continue his work with developing new materials...', 'date': '13 APR'}\n",
      "{'url': 'https://www.dtu.dk/english/news/nyhed?id={1250DBCC-E9E1-4F1A-B240-532FE5E70B96}', 'title': 'Turning shrimp side streams into an income', 'desc': 'Researchers and industry representatives\\xa0have set out to find a profitable and environmentally friendly way to extract valuable substances such as flavours, calcium...', 'date': '12 APR'}\n",
      "{'url': 'https://www.dtu.dk/english/news/nyhed?id={7078DDD3-E345-48E7-88A6-0037930FC9A7}', 'title': 'Purifying hospital wastewater in an eco-friendly way', 'desc': 'New technology enables removal of multi-resistant bacteria from hospital wastewater before it reaches the treatment plant and can pose a risk to humans and the environment...', 'date': '09 APR'}\n",
      "{'url': 'https://www.dtu.dk/english/news/nyhed?id={7FFA054D-B5BC-4899-85EB-96C5578DF786}', 'title': 'Massive Danish investment in artificial intelligence research', 'desc': 'A new pioneer centre for artificial intelligence (AI) research that is expected to open in late 2021 could be the largest Danish venture into AI research ever.', 'date': '09 APR'}\n",
      "{'url': 'https://www.dtu.dk/english/news/nyhed?id={BEA5B4AE-2993-4334-AF01-3EB13C286C08}', 'title': 'What will happen when the permafrost melts?', 'desc': 'Greenland’s first highway—between Kangerlussuaq and Sisimiut—is being built to monitor the impact of climate change.', 'date': '09 APR'}\n",
      "{'url': 'https://www.dtu.dk/english/news/nyhed?id={1547603F-FA35-4C5F-AACB-EF5BCBA10DEA}', 'title': 'New enzymes to improve the efficiency of biomass breakdown', 'desc': 'A new class of enzymes show great potential for streamlining the decomposition of biomass for further conversion into energy and bio-products.', 'date': '09 APR'}\n",
      "{'url': 'https://www.dtu.dk/english/news/nyhed?id={0040D9F7-CFDA-4BE4-A31C-05FD831EB45D}', 'title': 'Enzyme pioneer will help Danish research scale new heights', 'desc': \"One of the world's leading enzyme researchers Bernard Henrissat is moving his research to DTU, where he will contribute to building an internationally leading research...\", 'date': '08 APR'}\n",
      "{'url': 'https://www.dtu.dk/english/news/nyhed?id={0BD0838D-E7AF-4AD0-B6ED-5AFCE41F6A3A}', 'title': 'World’s smallest power converter ready to go to market', 'desc': 'The technology behind the world’s smallest power converter has been developed by researchers at DTU. Three of them have now founded a company that will produce and...', 'date': '07 APR'}\n",
      "{'url': 'https://www.dtu.dk/english/news/nyhed?id={D147B6F4-C0A5-4D20-AD57-FF92C53FFAD8}', 'title': 'Let wind turbines conquer the Seven Seas', 'desc': 'Peter Hauge Madsen at Energy Supply: In the near future, a huge market for floating wind turbines will open up. Denmark can come to play an important role if we seize the...', 'date': '06 APR'}\n",
      "{'url': 'https://www.dtu.dk/english/news/nyhed?id={D49BF22E-7A3A-4CBF-97A1-1CD640C1A2B1}', 'title': 'Researchers winning battle against sweat', 'desc': 'Coloplast and Riemann are jointly developing new materials with DTU that prevent sweat from impairing the adhesiveness of stoma bags and sunscreens.', 'date': '30 MAR'}\n",
      "{'url': 'https://www.dtu.dk/english/news/nyhed?id={6F539EF4-21D5-4C4F-9140-63D6BCC5C1B1}', 'title': 'DTU’s commemoration 2021 goes virtual', 'desc': 'DTU and DTU’s student organization Polyteknisk Forening invite everybody to join the traditional commemoration on Friday 23 April 2021 at 5 pm.', 'date': '25 MAR'}\n",
      "{'url': 'https://www.dtu.dk/english/news/nyhed?id={E5D550DA-C72C-4639-9FB6-009483718C7D}', 'title': 'Six factors that determine success when working from home', 'desc': 'Are you suffering from corona fatigue and looking forward to coming back, or do you thrive on remote work? According to new research from DTU, six factors play an important...', 'date': '25 MAR'}\n",
      "{'url': 'https://www.dtu.dk/english/news/nyhed?id={CA011777-E80E-4F75-94C0-B5DEAE4379D4}', 'title': 'Quantum computer’s ability to optimize stock portfolio tested', 'desc': 'In collaboration with the consulting firm KPMG, a student from DTU Physics has tested whether a quantum computer is better at optimizing a stock portfolio than a conventional...', 'date': '24 MAR'}\n",
      "{'url': 'https://www.dtu.dk/english/news/nyhed?id={BB33BA43-1746-47C4-AB4C-FC3EC31779A7}', 'title': 'Wind tunnels, soap bubbles, and super-fast cameras', 'desc': 'The new turbulence research laboratory at DTU Mechanics will study turbulence through a strong combination of theory, experiments, and computer simulations.', 'date': '23 MAR'}\n",
      "{'url': 'https://www.dtu.dk/english/news/nyhed?id={73B1A175-7065-4E59-83D9-C9FFE95BA905}', 'title': 'New technology aims to find illegal ships', 'desc': 'DTU and Gatehouse, a data and analysis company, are jointly developing a technological solution that makes it easier to monitor Arctic waters.', 'date': '23 MAR'}\n",
      "{'url': 'https://www.dtu.dk/english/news/nyhed?id={21A17ECE-C1FE-47E2-95E4-28F9D5A33EB6}', 'title': 'What will happen when the permafrost melts?', 'desc': 'Greenland’s first highway—between Kangerlussuaq and Sisimiut—is being built to monitor the impact of climate change.', 'date': '23 MAR'}\n",
      "{'url': 'https://www.dtu.dk/english/news/nyhed?id={4EA8A971-712F-4DF7-A216-1BC61BF0CAD5}', 'title': 'Can we measure the effects of climate change in the Arctic?', 'desc': 'In autumn 2020, an international research team was stationed in the sea west of Greenland to investigate how climate change affects ecosystems in the Arctic.', 'date': '23 MAR'}\n",
      "{'url': 'https://www.dtu.dk/english/news/nyhed?id={9E4C2835-A964-4559-9B01-0957B8CB8216}', 'title': 'New Arctic research ship on the way', 'desc': 'In autumn 2020, government funding for a new ocean-going research ship finally fell into place. This will replace Dana IV, Denmark’s only marine research ship that...', 'date': '23 MAR'}\n",
      "{'url': 'https://www.dtu.dk/english/news/nyhed?id={9DC45BEF-1C73-4454-9466-B19F0526C56B}', 'title': 'Ice melting at increasing rate', 'desc': 'All measurements of the Greenland ice sheet indicate it is melting faster than previously thought.', 'date': '23 MAR'}\n",
      "{'url': 'https://www.dtu.dk/english/news/nyhed?id={847E249E-22DD-4B57-9DC8-EF7B4501EEE9}', 'title': 'Engineers with Arctic competences sought after', 'desc': 'High demand for graduates from the Bachelor of Engineering in Arctic Civil Engineering programme', 'date': '23 MAR'}\n",
      "{'url': 'https://www.dtu.dk/english/news/nyhed?id={CBF805E2-A73C-4661-9DD1-0A705430AD97}', 'title': 'For the benefit of society - also in the Arctic', 'desc': 'Arctic DTU is the gateway to DTU’s activities in the Arctic region. In the coming years, the centre will promote cooperation with other Arctic research and education...', 'date': '23 MAR'}\n",
      "{'url': 'https://www.dtu.dk/english/news/nyhed?id={BAE892FC-9DBB-429B-B108-861AA470B741}', 'title': 'DTU tests new principles for Arctic construction', 'desc': 'In the largest construction research project in Greenland to date, DTU is exploring traditional and new ways of building in an Arctic climate.', 'date': '23 MAR'}\n"
     ]
    }
   ],
   "source": [
    "# with open(\"dtu_news.html\", \"r\", encoding='utf8') as f:\n",
    "#     contents = f.read()\n",
    "    \n",
    "from pyquery import PyQuery \n",
    "\n",
    "# Let's take the first 100 most recent news\n",
    "\n",
    "news = []\n",
    "for url in urls:\n",
    "    # Request the content of the website\n",
    "    contents = urllib.request.urlopen(url).read()\n",
    "\n",
    "    # load the document\n",
    "    pq = PyQuery(contents)\n",
    "\n",
    "    # Get all the element that has 'div.newsItem' as tag.\n",
    "    # We know that from inspecting the webpage. \n",
    "    newsItems = pq('div.newsItem')\n",
    "    \n",
    "    #\n",
    "    for i in range(len(newsItems)):\n",
    "        # one news\n",
    "        item = newsItems.eq(i)\n",
    "        # url\n",
    "        item_url = item.find('h2>a').attr('href')\n",
    "        # title\n",
    "        item_title = item.find('h2>a').text()\n",
    "        # desc\n",
    "        item_desc = item.find('p').text()\n",
    "        # date\n",
    "        item_date = item.find('span.date').text()\n",
    "        # \n",
    "        new_item = {\n",
    "            'url': item_url,\n",
    "            'title': item_title,\n",
    "            'desc': item_desc,\n",
    "            'date': item_date\n",
    "        }\n",
    "        \n",
    "        print(new_item)\n",
    "        news.append(new_item)"
   ]
  },
  {
   "cell_type": "markdown",
   "metadata": {},
   "source": [
    "### 2.2 Pictures links MLSM\n",
    "\n",
    "In this example, we want to get the picture link of the people of the MLSM group (http://mlsm.man.dtu.dk). \n",
    "\n",
    "Firstly, we need to specify the webpage url and request the page content.\n",
    "\n",
    "Second, we load the document in Scrapy\n",
    "\n",
    "Inspecting the page, we find that the picture link is stored as attribute $scr$ in image ($img$) elements which class is \".person-img.circle\". "
   ]
  },
  {
   "cell_type": "code",
   "execution_count": 8,
   "metadata": {
    "scrolled": true
   },
   "outputs": [
    {
     "name": "stdout",
     "output_type": "stream",
     "text": [
      "https://i2.wp.com/mlsm.man.dtu.dk/wp-content/uploads/2018/11/pereira_francisco-e1545259489853.jpg?resize=103%2C103&ssl=1\n",
      "https://i0.wp.com/mlsm.man.dtu.dk/wp-content/uploads/2019/08/cami.png?resize=150%2C150&ssl=1\n",
      "https://i1.wp.com/mlsm.man.dtu.dk/wp-content/uploads/2018/11/Rodrigues_Filipe.jpeg?resize=150%2C150&ssl=1\n",
      "https://i1.wp.com/mlsm.man.dtu.dk/wp-content/uploads/2019/01/ava_-square_400x400.jpeg?resize=150%2C150&ssl=1\n",
      "https://i2.wp.com/mlsm.man.dtu.dk/wp-content/uploads/2018/12/Bojan-Kostic-e1547027539712.jpg?resize=150%2C150&ssl=1\n",
      "https://i0.wp.com/mlsm.man.dtu.dk/wp-content/uploads/2019/10/mayara_moraes.png?resize=150%2C150&ssl=1\n",
      "https://i2.wp.com/mlsm.man.dtu.dk/wp-content/uploads/2019/01/dongwoo_lee-e1547047072329.jpg?resize=150%2C150&ssl=1\n",
      "https://i2.wp.com/mlsm.man.dtu.dk/wp-content/uploads/2019/01/nibau-e1547046943452.png?resize=150%2C150&ssl=1\n",
      "https://i0.wp.com/mlsm.man.dtu.dk/wp-content/uploads/2018/12/Petersen_Niklas.jpg?resize=150%2C150&ssl=1\n",
      "https://i0.wp.com/mlsm.man.dtu.dk/wp-content/uploads/2018/11/peled_inon.jpg?resize=150%2C150&ssl=1\n",
      "https://i0.wp.com/mlsm.man.dtu.dk/wp-content/uploads/2018/11/Servizi_Valentino2.jpg?resize=150%2C150&ssl=1\n",
      "https://i1.wp.com/mlsm.man.dtu.dk/wp-content/uploads/2019/08/sergio.png?resize=150%2C150&ssl=1\n",
      "https://i1.wp.com/mlsm.man.dtu.dk/wp-content/uploads/2019/01/Daniele_picture-e1547036005444.jpg?resize=150%2C150&ssl=1\n",
      "https://i1.wp.com/mlsm.man.dtu.dk/wp-content/uploads/2019/08/ioanna.png?resize=150%2C150&ssl=1\n",
      "https://i0.wp.com/mlsm.man.dtu.dk/wp-content/uploads/2019/08/renming.png?resize=150%2C150&ssl=1\n",
      "https://i0.wp.com/mlsm.man.dtu.dk/wp-content/uploads/2019/05/Georges.png?resize=150%2C150&ssl=1\n",
      "https://i0.wp.com/mlsm.man.dtu.dk/wp-content/uploads/2019/01/lampros-e1547047817925.jpg?resize=150%2C150&ssl=1\n",
      "https://i0.wp.com/mlsm.man.dtu.dk/wp-content/uploads/2019/08/david_duran.png?resize=150%2C150&ssl=1\n",
      "https://i0.wp.com/mlsm.man.dtu.dk/wp-content/uploads/2019/01/428695_10150564469276372_763092875_n-e1547048419575.jpg?resize=150%2C150&ssl=1\n",
      "https://i1.wp.com/mlsm.man.dtu.dk/wp-content/uploads/2019/10/vishnu_baburajan.png?resize=150%2C150&ssl=1\n"
     ]
    }
   ],
   "source": [
    "# specify the url\n",
    "url = \"http://mlsm.man.dtu.dk/people/\"\n",
    "# get the content\n",
    "contents = urllib.request.urlopen(url).read()   \n",
    "# load the document in PyQuery\n",
    "pq = PyQuery(contents)\n",
    "# Get all the elements with \"img\" tag inside the class \"person-img.circle\"\n",
    "newsItems = pq('.person-img.circle > img')\n",
    "# for each element print the source link.\n",
    "for x in newsItems.items():\n",
    "    print(x.attr('src'))"
   ]
  },
  {
   "cell_type": "code",
   "execution_count": null,
   "metadata": {},
   "outputs": [],
   "source": []
  }
 ],
 "metadata": {
  "kernelspec": {
   "display_name": "Python 3",
   "language": "python",
   "name": "python3"
  },
  "language_info": {
   "codemirror_mode": {
    "name": "ipython",
    "version": 3
   },
   "file_extension": ".py",
   "mimetype": "text/x-python",
   "name": "python",
   "nbconvert_exporter": "python",
   "pygments_lexer": "ipython3",
   "version": "3.7.3"
  }
 },
 "nbformat": 4,
 "nbformat_minor": 2
}

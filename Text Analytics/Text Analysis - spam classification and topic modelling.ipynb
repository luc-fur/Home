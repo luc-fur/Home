{
 "cells": [
  {
   "cell_type": "markdown",
   "metadata": {},
   "source": [
    "# Spam Classification\n",
    "\n",
    "Given that language remains a primary means of communication between humans, a lot of extremely useful data come in a natural language form. However, given its complexity and ambiguity, representing these data in a suitable form for automatic processing is a very difficult research challenge. \n",
    "We build a model to classify SMS messages for spam detection. The data was downloaded from http://www.dt.fee.unicamp.br/~tiago/smsspamcollection/\n",
    "\n",
    "First, we need to do some text preprocessing, commonly referred to as \"normalization\". Text preprocessing is usually the most crucial and time-consuming part of the NLP pipeline. In this exercise, it will include the following simple steps:\n",
    "1. Removing punctuation\n",
    "2. Converting text to lowercase *(Side note: This step is questionable since spammers tend to use more uppercase letters)*\n",
    "3. Removing stopwords (either using a predefined list of the English stopwords or using the most frequent words in the text directly)\n",
    "4. Stemming or lemmatizing\n",
    "\n",
    "Second, we represent the text in a format which can be used in machine learning. Since we will use a vector format for the messages (\"documents\"), this process is called \"vectorization\". We will use a simple \"bag-of-words\" (BoW) representation on a single word level (1-grams).\n",
    "\n",
    "To classify messages as spam/ham (binary classification), we will compare three different sets of features: \n",
    "1. Length of messages only\n",
    "2. Term frequencies (counts)\n",
    "3. Frequency (tf-ids)\n"
   ]
  },
  {
   "cell_type": "code",
   "execution_count": 1,
   "metadata": {},
   "outputs": [
    {
     "name": "stdout",
     "output_type": "stream",
     "text": [
      "spam    4825\n",
      "ham     4825\n",
      "Name: type, dtype: int64\n",
      "{'C': 10}\n",
      "              precision    recall  f1-score   support\n",
      "\n",
      "         ham       1.00      1.00      1.00       962\n",
      "        spam       1.00      1.00      1.00       968\n",
      "\n",
      "    accuracy                           1.00      1930\n",
      "   macro avg       1.00      1.00      1.00      1930\n",
      "weighted avg       1.00      1.00      1.00      1930\n",
      "\n",
      "Confusion matrix, without normalization\n",
      "[[961   1]\n",
      " [  0 968]]\n"
     ]
    },
    {
     "data": {
      "image/png": "[encoded data removed]",
      "text/plain": [
       "<Figure size 432x288 with 2 Axes>"
      ]
     },
     "metadata": {
      "needs_background": "light"
     },
     "output_type": "display_data"
    }
   ],
   "source": [
    "import pandas as pd\n",
    "import matplotlib.pyplot as plt\n",
    "%matplotlib inline\n",
    "\n",
    "data_df = pd.read_csv(\"smsspamcollection/SMSSpamCollection.txt\", sep=\"\\t\", header=None, names=['type', 'message'])\n",
    "data_df['message_len'] = data_df['message'].apply(len)\n",
    "\n",
    "# Upsampling the minor class (spam)\n",
    "from sklearn.utils import resample\n",
    "def balance_data(df):\n",
    "    # Separate majority and minority classes\n",
    "    df_spam = df[df.type=='spam']\n",
    "    df_ham = df[df.type=='ham'] #non-spam\n",
    "    # Upsample minority class\n",
    "    df_spam_upsampled = resample(df_spam, replace=True, n_samples=len(df_ham))\n",
    "    # Combine majority class with upsampled minority class\n",
    "    df_balanced = pd.concat([df_ham, df_spam_upsampled])\n",
    "    # Display new class counts\n",
    "    print(df_balanced.type.value_counts())\n",
    "    return df_balanced\n",
    "\n",
    "# Balacing the dataset\n",
    "data_df = balance_data(data_df)\n",
    "\n",
    "from sklearn.feature_extraction import _stop_words\n",
    "import string\n",
    "from nltk.stem import WordNetLemmatizer\n",
    "lemmatizer = WordNetLemmatizer()\n",
    "\n",
    "def text_processing(text):\n",
    "    # remove punctuation \n",
    "    text = \"\".join([c for c in text if c not in string.punctuation])\n",
    "    # lowercase\n",
    "    text = \"\".join([c.lower() for c in text])\n",
    "    # remove stopwords\n",
    "    text = \" \".join([w for w in text.split() if w not in _stop_words.ENGLISH_STOP_WORDS])\n",
    "    # stemming / lematizing (optional)\n",
    "    text = \" \".join([lemmatizer.lemmatize(w) for w in text.split()])\n",
    "    return text\n",
    "\n",
    "data_df['message_clean'] = data_df['message'].apply(text_processing)\n",
    "\n",
    "#  Bag-of-words (BoW) representation. Vectorization of text messages.\n",
    "#  Such vectorizers convert the whole corpora to a document-term matrix of size  𝑁×𝑀 ,\n",
    "# where  𝑁  is a number of documents (messages),  𝑀  is a vocabulary size (number of different words in the corpora), \n",
    "# and each element  𝑑𝑖𝑗  corresponds to the number (or frequency, or tf-idf, etc) of the word  𝑗  in the document  𝑖 .\n",
    "\n",
    "from sklearn.feature_extraction.text import CountVectorizer\n",
    "count_vect = CountVectorizer()\n",
    "bow_counts = count_vect.fit_transform(data_df['message_clean'].values)\n",
    "\n",
    "# Term frequencies by inverse document frequency (tf-idf representation).\n",
    "from sklearn.feature_extraction.text import TfidfTransformer\n",
    "tf_transformer = TfidfTransformer()\n",
    "bow_tfidf = tf_transformer.fit_transform(bow_counts)\n",
    "\n",
    "import numpy as np\n",
    "X_bow_tfidf = bow_tfidf\n",
    "y = data_df['type'].apply(lambda x: 1 if x == 'spam' else 0).values\n",
    "labels = np.array(['ham', 'spam'])\n",
    "\n",
    "# train/test split\n",
    "from sklearn.model_selection import train_test_split\n",
    "\n",
    "rs = 42 # reproducible results, set to None for random\n",
    "(X_bow_tfidf_train, X_bow_tfidf_test, y_train, y_test) = train_test_split( X_bow_tfidf, y,test_size=0.2 )\n",
    "\n",
    "# Standard performance metrics such as confusion matrix and F1 score.\n",
    "# https://scikit-learn.org/stable/auto_examples/model_selection/plot_confusion_matrix.html\n",
    "\n",
    "from sklearn.metrics import confusion_matrix\n",
    "from sklearn.utils.multiclass import unique_labels\n",
    "\n",
    "##### Function Begin #####\n",
    "def plot_confusion_matrix(y_true, y_pred, classes, normalize=False, title=None, cmap=plt.cm.Blues):\n",
    "    if not title:\n",
    "        if normalize:\n",
    "            title = 'Normalized confusion matrix'\n",
    "        else:\n",
    "            title = 'Confusion matrix, without normalization'\n",
    "    # Compute confusion matrix\n",
    "    cm = confusion_matrix(y_true, y_pred)\n",
    "    # Only use the labels that appear in the data\n",
    "    classes = classes[unique_labels(y_true, y_pred)]\n",
    "    if normalize:\n",
    "        cm = cm.astype('float') / cm.sum(axis=1)[:, np.newaxis]\n",
    "        print(\"Normalized confusion matrix\")\n",
    "    else:\n",
    "        print('Confusion matrix, without normalization')\n",
    "    print(cm)\n",
    "    fig, ax = plt.subplots()\n",
    "    im = ax.imshow(cm, interpolation='nearest', cmap=cmap)\n",
    "    ax.figure.colorbar(im, ax=ax)\n",
    "    # We want to show all ticks...\n",
    "    ax.set(xticks=np.arange(cm.shape[1]),\n",
    "           yticks=np.arange(cm.shape[0]),\n",
    "           # ... and label them with the respective list entries\n",
    "           xticklabels=classes, yticklabels=classes,\n",
    "           title=title,\n",
    "           ylabel='True label',\n",
    "           xlabel='Predicted label')\n",
    "    # Rotate the tick labels and set their alignment.\n",
    "    plt.setp(ax.get_xticklabels(), rotation=45, ha=\"right\",\n",
    "             rotation_mode=\"anchor\")\n",
    "    # Loop over data dimensions and create text annotations.\n",
    "    fmt = '.2f' if normalize else 'd'\n",
    "    thresh = cm.max() / 2.\n",
    "    for i in range(cm.shape[0]):\n",
    "        for j in range(cm.shape[1]):\n",
    "            ax.text(j, i, format(cm[i, j], fmt),\n",
    "                    ha=\"center\", va=\"center\",\n",
    "                    color=\"white\" if cm[i, j] > thresh else \"black\")\n",
    "    fig.tight_layout()\n",
    "    return ax\n",
    "##### Function End #####\n",
    "\n",
    "from sklearn.dummy import DummyClassifier\n",
    "from sklearn.metrics import classification_report\n",
    "# **Classification using tf-idf matrix**\n",
    "\n",
    "# Train classifier which uses the term frequencies as features. Use standard performance metrics such as confusion matrix and F1 score\n",
    "from sklearn.linear_model import LogisticRegression\n",
    "from sklearn.model_selection import GridSearchCV\n",
    "\n",
    "parameters = {'C': [10e-10, 0.1, 1, 10, 10e10]}\n",
    "lr = GridSearchCV(LogisticRegression(class_weight='balanced', solver='lbfgs'), parameters, cv=5)\n",
    "lr.fit(X_bow_tfidf_train, y_train)\n",
    "print(lr.best_params_)\n",
    "\n",
    "y_pred = lr.predict(X_bow_tfidf_test)\n",
    "print(classification_report(y_test, y_pred, target_names=labels))\n",
    "plot_confusion_matrix(y_test, y_pred, labels)\n",
    "plt.show()"
   ]
  },
  {
   "cell_type": "markdown",
   "metadata": {},
   "source": [
    "# Topic modeling "
   ]
  },
  {
   "cell_type": "markdown",
   "metadata": {},
   "source": [
    "Topic modeling is a useful set of techniques to represent a document as a set of concepts (or \"topics\"). Conceptually, it is similar to eigenvector decomposition (Principal Component Analysis, PCA), when each data point (document) is represented as a weighted sum of different eigenvectors (topics). Topics and decompositions are learned by the algorithm in an unsupervised manner. We will use the most popular one -- Latent Dirichlet Allocation (LDA)."
   ]
  },
  {
   "cell_type": "code",
   "execution_count": 2,
   "metadata": {},
   "outputs": [],
   "source": [
    "from sklearn.decomposition import LatentDirichletAllocation\n",
    "\n",
    "n_topics = 7\n",
    "lda = LatentDirichletAllocation(n_components=n_topics, max_iter=5,\n",
    "                                learning_method='online',\n",
    "                                learning_offset=50.,\n",
    "                                random_state=0)"
   ]
  },
  {
   "cell_type": "markdown",
   "metadata": {},
   "source": [
    "Let's run the LDA algorithm."
   ]
  },
  {
   "cell_type": "code",
   "execution_count": 3,
   "metadata": {},
   "outputs": [],
   "source": [
    "X_lda_train = lda.fit_transform(X_bow_tfidf_train)"
   ]
  },
  {
   "cell_type": "markdown",
   "metadata": {},
   "source": [
    "Print top N words together with their weights in each topic"
   ]
  },
  {
   "cell_type": "code",
   "execution_count": 4,
   "metadata": {},
   "outputs": [],
   "source": [
    "def print_top_words(model, feature_names, n_top_words):\n",
    "    norm = model.components_.sum(axis=1)[:, np.newaxis]\n",
    "    for topic_idx, topic in enumerate(model.components_):\n",
    "        print(80 * \"-\")\n",
    "        print(\"Topic {}\".format(topic_idx))\n",
    "        for i in topic.argsort()[:-n_top_words - 1:-1]:\n",
    "            print(\"{:.3f}\".format(topic[i] / norm[topic_idx][0]) \n",
    "                  + '\\t' + feature_names[i])"
   ]
  },
  {
   "cell_type": "code",
   "execution_count": 5,
   "metadata": {
    "scrolled": true
   },
   "outputs": [
    {
     "name": "stdout",
     "output_type": "stream",
     "text": [
      "\n",
      "Topics in LDA model:\n",
      "--------------------------------------------------------------------------------\n",
      "Topic 0\n",
      "0.010\tcash\n",
      "0.009\t1000\n",
      "0.008\taccount\n",
      "0.008\tcustomer\n",
      "0.008\tspeak\n",
      "0.007\tclaim\n",
      "0.007\tstatement\n",
      "0.007\tservice\n",
      "0.007\tprivate\n",
      "0.006\tpoint\n",
      "--------------------------------------------------------------------------------\n",
      "Topic 1\n",
      "0.008\tok\n",
      "0.008\tim\n",
      "0.007\till\n",
      "0.006\tcome\n",
      "0.006\ttime\n",
      "0.006\tjust\n",
      "0.006\tdont\n",
      "0.006\tltgt\n",
      "0.005\tlike\n",
      "0.005\thome\n",
      "--------------------------------------------------------------------------------\n",
      "Topic 2\n",
      "0.006\treward\n",
      "0.005\tbus\n",
      "0.005\thour\n",
      "0.004\tpas\n",
      "0.004\tspecial\n",
      "0.003\tcinema\n",
      "0.003\tbrought\n",
      "0.003\tyear\n",
      "0.003\t09061701461\n",
      "0.003\tkl341\n",
      "--------------------------------------------------------------------------------\n",
      "Topic 3\n",
      "0.011\tstop\n",
      "0.011\treply\n",
      "0.009\ttext\n",
      "0.009\tfree\n",
      "0.008\tservice\n",
      "0.007\tmobile\n",
      "0.006\tringtone\n",
      "0.005\tur\n",
      "0.005\tmsg\n",
      "0.005\tnew\n",
      "--------------------------------------------------------------------------------\n",
      "Topic 4\n",
      "0.012\tfree\n",
      "0.010\tprize\n",
      "0.009\turgent\n",
      "0.007\tnokia\n",
      "0.007\tmessage\n",
      "0.007\ttxt\n",
      "0.007\tclaim\n",
      "0.007\twon\n",
      "0.006\t500\n",
      "0.006\tmobile\n",
      "--------------------------------------------------------------------------------\n",
      "Topic 5\n",
      "0.006\tnumber\n",
      "0.006\taward\n",
      "0.006\t350\n",
      "0.005\treceive\n",
      "0.005\tbabe\n",
      "0.005\tjob\n",
      "0.004\tya\n",
      "0.004\tdid\n",
      "0.004\tday\n",
      "0.004\trate\n",
      "--------------------------------------------------------------------------------\n",
      "Topic 6\n",
      "0.005\tgame\n",
      "0.004\tterm\n",
      "0.003\twap\n",
      "0.003\toredi\n",
      "0.003\tarcade\n",
      "0.003\tcondition\n",
      "0.003\tmissing\n",
      "0.003\tstreet\n",
      "0.003\tsp\n",
      "0.003\tstop\n"
     ]
    }
   ],
   "source": [
    "print(\"\\nTopics in LDA model:\")\n",
    "counts_feature_names = count_vect.get_feature_names()\n",
    "n_top_words = 10\n",
    "print_top_words(lda, counts_feature_names, n_top_words)"
   ]
  },
  {
   "cell_type": "markdown",
   "metadata": {},
   "source": [
    "**Classification using LDA**"
   ]
  },
  {
   "cell_type": "code",
   "execution_count": 6,
   "metadata": {},
   "outputs": [],
   "source": [
    "X_lda_test = lda.transform(X_bow_tfidf_test)"
   ]
  },
  {
   "cell_type": "code",
   "execution_count": 7,
   "metadata": {},
   "outputs": [
    {
     "name": "stdout",
     "output_type": "stream",
     "text": [
      "{'C': 1e-09}\n"
     ]
    }
   ],
   "source": [
    "parameters = {'C': [10e-10, 0.1, 1, 10, 10e10]}\n",
    "lr = GridSearchCV(LogisticRegression(class_weight='balanced', solver='lbfgs'), \n",
    "                  parameters, cv=5)\n",
    "lr.fit(X_lda_train, y_train)\n",
    "print(lr.best_params_)"
   ]
  },
  {
   "cell_type": "code",
   "execution_count": 8,
   "metadata": {},
   "outputs": [
    {
     "name": "stdout",
     "output_type": "stream",
     "text": [
      "              precision    recall  f1-score   support\n",
      "\n",
      "         ham       0.82      0.95      0.88       962\n",
      "        spam       0.94      0.79      0.86       968\n",
      "\n",
      "    accuracy                           0.87      1930\n",
      "   macro avg       0.88      0.87      0.87      1930\n",
      "weighted avg       0.88      0.87      0.87      1930\n",
      "\n",
      "Confusion matrix, without normalization\n",
      "[[916  46]\n",
      " [207 761]]\n"
     ]
    },
    {
     "data": {
      "image/png": "[encoded data removed]",
      "text/plain": [
       "<Figure size 432x288 with 2 Axes>"
      ]
     },
     "metadata": {
      "needs_background": "light"
     },
     "output_type": "display_data"
    }
   ],
   "source": [
    "y_pred = lr.predict(X_lda_test)\n",
    "print(classification_report(y_test, y_pred, target_names=labels))\n",
    "plot_confusion_matrix(y_test, y_pred, labels)\n",
    "plt.show()"
   ]
  },
  {
   "cell_type": "markdown",
   "metadata": {},
   "source": [
    "This last model does not perform as good as the previous one. However, it shows that it is possible to get very good performance using only a small number of features for each message instead of thousands of words!"
   ]
  },
  {
   "cell_type": "code",
   "execution_count": null,
   "metadata": {},
   "outputs": [],
   "source": []
  }
 ],
 "metadata": {
  "kernelspec": {
   "display_name": "Python 3",
   "language": "python",
   "name": "python3"
  },
  "language_info": {
   "codemirror_mode": {
    "name": "ipython",
    "version": 3
   },
   "file_extension": ".py",
   "mimetype": "text/x-python",
   "name": "python",
   "nbconvert_exporter": "python",
   "pygments_lexer": "ipython3",
   "version": "3.7.3"
  }
 },
 "nbformat": 4,
 "nbformat_minor": 4
}

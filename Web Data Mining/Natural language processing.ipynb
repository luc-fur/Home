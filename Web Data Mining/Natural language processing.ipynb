{
 "cells": [
  {
   "cell_type": "markdown",
   "metadata": {},
   "source": [
    "### Natural language processing - sentiment analysis for Tesla using Twitter\n",
    "*Based on https://www.coursera.org/specializations/jhu-data-science*\n",
    "\n"
   ]
  },
  {
   "cell_type": "markdown",
   "metadata": {},
   "source": [
    "Let's compute the sentiment of each tweet based on the sentiment scores of the terms in the tweet. For the simplicity, we assume that the sentiment of a tweet is equivalent to the sum of the sentiment scores for each term in the tweet.\n",
    "\n",
    "The file AFINN-111.txt contains a list of pre-computed sentiment scores. Each line in the file contains a word or phrase followed by a sentiment score. For example, catastrophic:-4; breathtaking:+5.\n",
    "\n",
    "Each word or phrase that is found in a tweet but not found in AFINN-111.txt should be given a sentiment score of 0. See the file AFINN-README.txt for more information."
   ]
  },
  {
   "cell_type": "code",
   "execution_count": 1,
   "metadata": {},
   "outputs": [
    {
     "data": {
      "image/png": "[encoded data removed]",
      "text/plain": [
       "<Figure size 432x288 with 1 Axes>"
      ]
     },
     "metadata": {
      "needs_background": "light"
     },
     "output_type": "display_data"
    },
    {
     "name": "stdout",
     "output_type": "stream",
     "text": [
      "The final score is: 0.651\n"
     ]
    }
   ],
   "source": [
    "import json\n",
    "\n",
    "# Latest 1000 tweets about Tesla\n",
    "tweets = []\n",
    "infile = open('tesla_tweets_1000.txt')\n",
    "for line in infile.readlines():\n",
    "    tweets.append(json.loads(line))\n",
    "infile.close()\n",
    "\n",
    "# I assume that the sentiment of a tweet is equivalent to the sum of the sentiment scores for each term in the tweet.\n",
    "# The file AFINN-111.txt contains a list of pre-computed sentiment scores. \n",
    "# Each line in the file contains a word or phrase followed by a sentiment score.\n",
    "\n",
    "\n",
    "def build_sent_dictionary(sent_filename):\n",
    "    # initialize an empty dictionary\n",
    "    sent_dictionary = {} \n",
    "    afinnfile = open(sent_filename)\n",
    "    for line in afinnfile:\n",
    "        # The file is tab-delimited. \"\\t\" means \"tab character\"\n",
    "        term, score  = line.split(\"\\t\")  \n",
    "        # Convert the score to an integer.\n",
    "        sent_dictionary[term] = int(score)\n",
    "    afinnfile.close()  \n",
    "    # Print every (term, score) pair in the dictionary\n",
    "    #print sent_dictionary.items() \n",
    "    return sent_dictionary\n",
    "\n",
    "import string\n",
    "\n",
    "def rate_sentiments(tweets, sent_dictionary):\n",
    "    scores = []\n",
    "    for tweet in tweets:\n",
    "        score = 0\n",
    "        words = [word.strip(string.punctuation) for word in tweet['full_text'].split()]\n",
    "        for word in words:\n",
    "            if word in sent_dictionary: \n",
    "                score += sent_dictionary[word]\n",
    "        scores.append(score)\n",
    "    return scores\n",
    "\n",
    "sent_dictionary = build_sent_dictionary('AFINN-111.txt')\n",
    "scores = rate_sentiments(tweets, sent_dictionary)\n",
    "\n",
    "import matplotlib.pyplot as plt\n",
    "%matplotlib inline   \n",
    "\n",
    "n, bins, patches=plt.hist(scores, bins=10)\n",
    "plt.ylabel(\"frequency\")\n",
    "plt.xlabel(\"score\")\n",
    "plt.show()\n",
    "\n",
    "import numpy as np\n",
    "print(\"The final score is:\",np.mean(scores))"
   ]
  },
  {
   "cell_type": "markdown",
   "metadata": {},
   "source": [
    "It's slightly positive! \n",
    "But let´s give a closer look to the top positive  and negative tweets"
   ]
  },
  {
   "cell_type": "code",
   "execution_count": 2,
   "metadata": {
    "scrolled": true
   },
   "outputs": [
    {
     "name": "stdout",
     "output_type": "stream",
     "text": [
      "Sun Sep 23 06:43:25 +0000 2018 Patrick Frickel @HaydenGerson @GuyTesla @elonmusk @Tesla @ElonBachman @ElonsPromises @TeslaCharts @markbspiegel When life is great take advantage. Spoil yourself and get your mind off people like Musk and the rest of his enthusiastic volunteers. They seem to be having fun. You deserve some too.\n",
      "--------------------------------------------------------------------------------\n",
      "Sun Sep 23 05:02:13 +0000 2018 James Locke This hotel is great, the maintenance gentleman was watching spot for me after I called. We had a good chat. He is impressed with Tesla and says the charger has been working great since installed a couple years ago. Happy to hear Tesla growing &amp; said they should get more chargers\n",
      "--------------------------------------------------------------------------------\n",
      "Sun Sep 23 05:10:06 +0000 2018 San RT @GuyTesla: I delivered a #Model3 today, helping out @elonmusk and the @Tesla team. So fun to watch new owners delight in everything the…\n",
      "--------------------------------------------------------------------------------\n",
      "Sun Sep 23 05:13:01 +0000 2018 Fred Roberts RT @GuyTesla: I delivered a #Model3 today, helping out @elonmusk and the @Tesla team. So fun to watch new owners delight in everything the…\n",
      "--------------------------------------------------------------------------------\n",
      "Sun Sep 23 05:14:15 +0000 2018 Lars Hansen RT @GuyTesla: I delivered a #Model3 today, helping out @elonmusk and the @Tesla team. So fun to watch new owners delight in everything the…\n",
      "--------------------------------------------------------------------------------\n",
      "Sun Sep 23 05:03:59 +0000 2018 gee iam @GuyTesla @elonmusk @Tesla That is so awesome! I would too if I could. Every little bit helps to make the world a better place...\n",
      "--------------------------------------------------------------------------------\n",
      "Sun Sep 23 05:32:04 +0000 2018 John Himpe #Beakernight was so much fun tonight. Despite the cold weather, it was a great event!  While everything impressed, it was hard not to pay attention to those Tesla coils! #yyc #stem https://t.co/GDSbcBNsH4\n",
      "--------------------------------------------------------------------------------\n",
      "Sun Sep 23 06:30:56 +0000 2018 ScottyBadMoon @brawong @elonmusk @Tesla Great idea, or not...lol electric motors like #Tesla rule out big oil pollutants, Gas price gouging.  I like this. Hope we see lots more tesla vehicles on the road sooner then later. have greenhouse concerns?\n",
      "Environmental concerns? a tesla would be a most excellent choice.\n",
      "--------------------------------------------------------------------------------\n",
      "Sun Sep 23 06:42:57 +0000 2018 45SURF @alexkwolfe @markbspiegel @elonmusk Bro thank you thank you for helping Elon save humanity by funding his gas guzzling Gulf Stream bro Tesla 4ever\n",
      "--------------------------------------------------------------------------------\n",
      "Sun Sep 23 04:48:15 +0000 2018 و RT @_harukimurakami: “That amazing time in our lives is gone, and will never return. All the beautiful possibilities we had then have been…\n",
      "--------------------------------------------------------------------------------\n",
      "--------------------------------------------------------------------------------\n",
      "Sun Sep 23 06:09:44 +0000 2018 decryption @mattallen @michaelides_j @swan_legend Well it’s pretty obvious this bloke buys in to the Tesla myth. And I’m saying that’s a load of bullshit (I’m still a model 3 reservation holder btw, so I’m not an anti Tesla fucker) and he’s a warped individual for buying into it at that deep level\n",
      "--------------------------------------------------------------------------------\n",
      "Sun Sep 23 06:43:41 +0000 2018 OingoBoingo @kimpaquette @Tesla @PopMech Hmm, one reason for me not to buy that is the missing knobs. Touchscreens distract from the street. Very poor to handle while driving.\n",
      "--------------------------------------------------------------------------------\n",
      "Sun Sep 23 06:20:48 +0000 2018 Globe @RTUKnews @RT_com @elonmusk Sad if they do.  I'll never buy a Tesla if that's the case. It's bad enough they got an Israeli company to make that shitty autopilot system they put in Teslas.\n",
      "--------------------------------------------------------------------------------\n",
      "Sun Sep 23 05:48:34 +0000 2018 🧠 Elon’s Brain 🧠 RT @ICannot_Enough: Remind me who's got a debt problem?  Is it GM or Tesla?  Because this chart I made shows that GM's total debt keeps gro…\n",
      "--------------------------------------------------------------------------------\n",
      "Sun Sep 23 05:42:21 +0000 2018 Bill Sabo RT @kimpaquette: Anyone who thinks there is no demand for this car is either crazy or obstinate. #tesla #model3 $TSLA https://t.co/2jO6gmnM…\n",
      "--------------------------------------------------------------------------------\n",
      "Sun Sep 23 05:26:37 +0000 2018 Dan Cogswell @TheAdaptedMind Do you think any of these nitwits have read a balance sheet in their life, let alone Tesla’s? The sum of their knowledge seems to be from the steady stream of twitter bullshit Elon feeds them.\n",
      "--------------------------------------------------------------------------------\n",
      "Sun Sep 23 06:32:19 +0000 2018 sww1235 RT @RealTimeWWII: Tesla, now 84, is asking for $2,000,000 to build a prototype, but says he'll work alone &amp; will \"suffer no interference fr…\n",
      "--------------------------------------------------------------------------------\n",
      "Sun Sep 23 06:03:55 +0000 2018 Tilman Winkler @MrMarkHandy @markbspiegel @Tesla My guess: they are that clueless, no ill intent behind it.\n",
      "--------------------------------------------------------------------------------\n",
      "Sun Sep 23 05:21:43 +0000 2018 Gilgamesh RT @ningiou: Tesla: why were you summoned as a humanoid lion\n",
      "Edison, hiding a furry commission drawn by DaVinci: are you the fucking cops\n",
      "--------------------------------------------------------------------------------\n",
      "Sun Sep 23 05:19:22 +0000 2018 Patrick Frickel @RobertDrenk @ravenvanderrave @elonmusk @Tesla Hi please be patient. This is a huge weekend for tesla and things will go back to normal shortly. Meanwhile you have opened the portal shorts hell and let out the hate demons.\n",
      "--------------------------------------------------------------------------------\n"
     ]
    }
   ],
   "source": [
    "def print_tweet(tweet):\n",
    "    print(tweet['created_at'], tweet['user']['name'], tweet['full_text'])\n",
    "    print(80 * '-')\n",
    "\n",
    "scores_ind = enumerate(scores)\n",
    "scores_ind = sorted(scores_ind, key=lambda x: x[1])\n",
    "\n",
    "n_tweets = 10\n",
    "for i in range(n_tweets):\n",
    "    print_tweet(tweets[scores_ind[len(tweets) - i - 1][0]])\n",
    "print(80 * '-')\n",
    "for i in range(n_tweets):\n",
    "    print_tweet(tweets[scores_ind[i][0]])"
   ]
  },
  {
   "cell_type": "markdown",
   "metadata": {},
   "source": [
    "Automatic sentiment detection is one of the most interesting problems in natural language processing (NLP). The main issue is the complexity of our language, one word can completely change the meaning of a sentence. Also, you can think of such things as subjectivity, tone, context, irony, sarcasm, and many others!"
   ]
  },
  {
   "cell_type": "markdown",
   "metadata": {},
   "source": [
    "# Tweets data mining\n",
    "Tweeter offers a enormous amount of information which can be used for various purpose.\n",
    "It follows few examples of the kind of data it is possible to obtain from Twitter."
   ]
  },
  {
   "cell_type": "code",
   "execution_count": 3,
   "metadata": {},
   "outputs": [
    {
     "data": {
      "image/png": "[encoded data removed]",
      "text/plain": [
       "<Figure size 432x288 with 1 Axes>"
      ]
     },
     "metadata": {
      "needs_background": "light"
     },
     "output_type": "display_data"
    }
   ],
   "source": [
    "def word_frequency(tweets):\n",
    "    word_freq = {}\n",
    "    word_count = 0\n",
    "    for tweet in tweets:\n",
    "        words = [word.strip(string.punctuation) for word in tweet['full_text'].split()]\n",
    "        #print words\n",
    "        for word in words:\n",
    "            if word not in word_freq: \n",
    "                word_freq[word] = 0\n",
    "            word_freq[word] += 1\n",
    "            word_count += 1\n",
    "    for word in word_freq:\n",
    "        word_freq[word] /= word_count\n",
    "    return word_freq\n",
    "\n",
    "word_freq = word_frequency(tweets)\n",
    "import nltk\n",
    "from nltk.corpus import stopwords\n",
    "for sw in stopwords.words('english'):\n",
    "    if sw.upper() in word_freq.keys():\n",
    "        del word_freq[sw.upper()]\n",
    "    if sw.lower() in word_freq.keys():\n",
    "        del word_freq[sw.lower()]\n",
    "\n",
    "word_freq_sorted = sorted(word_freq.items(), key=lambda x: x[1], reverse=True)\n",
    "#print(word_freq_sorted)\n",
    "n_plot = 30\n",
    "y = [x[1] for x in word_freq_sorted[:n_plot]]\n",
    "l = [x[0] for x in word_freq_sorted[:n_plot]]\n",
    "plt.bar(l, y)\n",
    "plt.ylabel(\"frequency\")\n",
    "plt.xticks(rotation=90)\n",
    "plt.show()"
   ]
  },
  {
   "cell_type": "markdown",
   "metadata": {},
   "source": [
    "## Top hashtags"
   ]
  },
  {
   "cell_type": "code",
   "execution_count": 4,
   "metadata": {},
   "outputs": [
    {
     "name": "stdout",
     "output_type": "stream",
     "text": [
      "[('Tesla', 59), ('tesla', 49), ('specad', 40), ('elonmusk', 40), ('spacex', 40), ('Model3', 17), ('IOTA', 12), ('model3', 9), ('CleanTechnica', 8), ('ElectricVehicle', 7)]\n"
     ]
    }
   ],
   "source": [
    "def top_hashtags(tweets):\n",
    "    hashtags = {}\n",
    "    for tweet in tweets:\n",
    "        tweet_hashtags = tweet['entities']['hashtags']\n",
    "        for hashtag in tweet_hashtags:\n",
    "            if hashtag['text'] not in hashtags:\n",
    "                hashtags[hashtag['text']] = 0\n",
    "            hashtags[hashtag['text']] += 1\n",
    "    return hashtags\n",
    "\n",
    "hashtags = top_hashtags(tweets)\n",
    "hashtags_sorted = sorted(hashtags.items(), key=lambda x: x[1], reverse=True)\n",
    "print(hashtags_sorted[:10])"
   ]
  },
  {
   "cell_type": "markdown",
   "metadata": {},
   "source": [
    "## User location"
   ]
  },
  {
   "cell_type": "code",
   "execution_count": 5,
   "metadata": {
    "scrolled": true
   },
   "outputs": [
    {
     "name": "stdout",
     "output_type": "stream",
     "text": [
      "Indiana 3.0\n",
      "Hawaii 3.0\n",
      "Rhode Island 3.0\n",
      "Oklahoma 2.5\n",
      "Massachusetts 2.0\n",
      "National 2.0\n",
      "Illinois 1.8\n",
      "Missouri 1.6666666666666667\n",
      "Arizona 1.5714285714285714\n",
      "Florida 1.4166666666666667\n",
      "Oregon 1.375\n",
      "Washington 1.2\n",
      "Virginia 1.0\n",
      "Connecticut 1.0\n",
      "New Jersey 1.0\n",
      "California 0.9090909090909091\n",
      "Utah 0.5\n",
      "New York 0.35714285714285715\n",
      "Nevada 0.25\n",
      "Montana 0.0\n",
      "Nebraska 0.0\n",
      "Maine 0.0\n",
      "New Mexico 0.0\n",
      "Kentucky 0.0\n",
      "Kansas 0.0\n",
      "Alabama 0.0\n",
      "Idaho 0.0\n",
      "Georgia -0.5\n",
      "Minnesota -0.5\n",
      "North Carolina -0.5\n",
      "Texas -0.75\n",
      "Wisconsin -1.0\n",
      "Pennsylvania -1.0\n",
      "Colorado -1.375\n",
      "Delaware -2.0\n",
      "Alaska -2.0\n",
      "Louisiana -4.0\n"
     ]
    }
   ],
   "source": [
    "tweets_place, tweets_coord, tweets_user_location = 0, 0, 0\n",
    "for tweet in tweets:\n",
    "    if tweet['coordinates']:\n",
    "        tweets_coord += 1\n",
    "    if tweet['place']:\n",
    "        tweets_place += 1\n",
    "    if tweet['user']['location']:\n",
    "        tweets_user_location += 1\n",
    "\n",
    "states_dict = {\n",
    "        'AK': 'Alaska',\n",
    "        'AL': 'Alabama',\n",
    "        'AR': 'Arkansas',\n",
    "        'AS': 'American Samoa',\n",
    "        'AZ': 'Arizona',\n",
    "        'CA': 'California',\n",
    "        'CO': 'Colorado',\n",
    "        'CT': 'Connecticut',\n",
    "        'DC': 'District of Columbia',\n",
    "        'DE': 'Delaware',\n",
    "        'FL': 'Florida',\n",
    "        'GA': 'Georgia',\n",
    "        'GU': 'Guam',\n",
    "        'HI': 'Hawaii',\n",
    "        'IA': 'Iowa',\n",
    "        'ID': 'Idaho',\n",
    "        'IL': 'Illinois',\n",
    "        'IN': 'Indiana',\n",
    "        'KS': 'Kansas',\n",
    "        'KY': 'Kentucky',\n",
    "        'LA': 'Louisiana',\n",
    "        'MA': 'Massachusetts',\n",
    "        'MD': 'Maryland',\n",
    "        'ME': 'Maine',\n",
    "        'MI': 'Michigan',\n",
    "        'MN': 'Minnesota',\n",
    "        'MO': 'Missouri',\n",
    "        'MP': 'Northern Mariana Islands',\n",
    "        'MS': 'Mississippi',\n",
    "        'MT': 'Montana',\n",
    "        'NA': 'National',\n",
    "        'NC': 'North Carolina',\n",
    "        'ND': 'North Dakota',\n",
    "        'NE': 'Nebraska',\n",
    "        'NH': 'New Hampshire',\n",
    "        'NJ': 'New Jersey',\n",
    "        'NM': 'New Mexico',\n",
    "        'NV': 'Nevada',\n",
    "        'NY': 'New York',\n",
    "        'OH': 'Ohio',\n",
    "        'OK': 'Oklahoma',\n",
    "        'OR': 'Oregon',\n",
    "        'PA': 'Pennsylvania',\n",
    "        'PR': 'Puerto Rico',\n",
    "        'RI': 'Rhode Island',\n",
    "        'SC': 'South Carolina',\n",
    "        'SD': 'South Dakota',\n",
    "        'TN': 'Tennessee',\n",
    "        'TX': 'Texas',\n",
    "        'UT': 'Utah',\n",
    "        'VA': 'Virginia',\n",
    "        'VI': 'Virgin Islands',\n",
    "        'VT': 'Vermont',\n",
    "        'WA': 'Washington',\n",
    "        'WI': 'Wisconsin',\n",
    "        'WV': 'West Virginia',\n",
    "        'WY': 'Wyoming'\n",
    "}\n",
    "\n",
    "import re\n",
    "\n",
    "\n",
    "def get_state_from_str(text, states_dict):\n",
    "    state = None\n",
    "    for k, v in states_dict.items():\n",
    "        searchObj = re.search(v, text, re.IGNORECASE)\n",
    "        if searchObj: \n",
    "            state = k\n",
    "        else:\n",
    "            searchObj = re.search(k, text)\n",
    "            if searchObj: \n",
    "                state = k\n",
    "    return state\n",
    "\n",
    "\n",
    "states = []\n",
    "for tweet in tweets:\n",
    "    state = None\n",
    "    if tweet['place'] and tweet['place']['country_code'] == 'US':\n",
    "        state = get_state_from_str(tweet['place']['full_name'], states_dict)\n",
    "    if state is None and tweet['user']['location']:\n",
    "        state = get_state_from_str(tweet['user']['location'], states_dict)\n",
    "    states.append(state)\n",
    "\n",
    "# Let's iterate through the tweets again to find a mean value of sentiment scores for each state.\n",
    "\n",
    "scores_by_state = {}\n",
    "for score_i, score in enumerate(scores):\n",
    "    state = states[score_i]\n",
    "    if state is not None:\n",
    "        if state not in scores_by_state:\n",
    "            scores_by_state[state] = []\n",
    "        scores_by_state[state].append(score)\n",
    "\n",
    "state_score_mean = {}\n",
    "for k in scores_by_state:\n",
    "    state_score_mean[k] = np.mean(scores_by_state[k])\n",
    "\n",
    "# Sorted list of the mean sentiment scores for each state. \n",
    "state_score_mean_sorted = sorted(state_score_mean.items(), key=lambda x: x[1], \n",
    "                                 reverse=True)\n",
    "for state, score in state_score_mean_sorted:\n",
    "    print(states_dict[state], score)"
   ]
  },
  {
   "cell_type": "code",
   "execution_count": null,
   "metadata": {},
   "outputs": [],
   "source": []
  }
 ],
 "metadata": {
  "kernelspec": {
   "display_name": "Python 3",
   "language": "python",
   "name": "python3"
  },
  "language_info": {
   "codemirror_mode": {
    "name": "ipython",
    "version": 3
   },
   "file_extension": ".py",
   "mimetype": "text/x-python",
   "name": "python",
   "nbconvert_exporter": "python",
   "pygments_lexer": "ipython3",
   "version": "3.7.3"
  }
 },
 "nbformat": 4,
 "nbformat_minor": 2
}
